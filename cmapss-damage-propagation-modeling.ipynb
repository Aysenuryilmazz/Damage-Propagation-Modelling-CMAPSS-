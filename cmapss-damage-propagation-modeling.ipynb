{
 "cells": [
  {
   "cell_type": "markdown",
   "metadata": {
    "papermill": {
     "duration": 0.033273,
     "end_time": "2021-01-08T16:09:55.341592",
     "exception": false,
     "start_time": "2021-01-08T16:09:55.308319",
     "status": "completed"
    },
    "tags": []
   },
   "source": [
    "# Damage Propagation Modeling \n",
    "# Aircraft Engine Run-to-Failure Simulation"
   ]
  },
  {
   "cell_type": "markdown",
   "metadata": {
    "papermill": {
     "duration": 0.030585,
     "end_time": "2021-01-08T16:09:55.404059",
     "exception": false,
     "start_time": "2021-01-08T16:09:55.373474",
     "status": "completed"
    },
    "tags": []
   },
   "source": [
    "- Damage propagation was allowed to continue until a failure criterion was reached. A health index was defined as the minimum of several superimposed operational margins at any given time instant and the failure criterion is reached when health index reaches zero. Output of the model was the time series (cycles) of sensed measurements typically available from aircraft gas turbine engines. \n",
    "\n",
    "- Prognostics here exclusively as the estimation of remaining useful component life. The remaining useful life (RUL) estimates are in units of time (e.g., hours or cycles). End-of-life can be subjectively determined as a function of operational thresholds that can be measured. These thresholds depend on user specifications to determine safe operational limits.\n",
    "\n",
    "- An important requirement for the damage modeling process was the availability of a suitable system model that allows input variations of health related parameters and recording of the resulting output sensor measurements. The recently released C-MAPSS (Commercial Modular Aero- Propulsion System Simulation)\n",
    "\n",
    "- C-MAPSS is a tool for simulating a realistic large commercial turbofan engine. The software is coded in the MATLAB® and Simulink® environment, and includes a number of editable input parameters that allow the user to enter specific values of his/her own choice regarding operational profile, closed-loop controllers, environmental conditions, etc\n",
    "\n",
    "Data Set: FD001 ==>\n",
    "Train trjectories: 100,\n",
    "Test trajectories: 100,\n",
    "Conditions: ONE (Sea Level),\n",
    "Fault Modes: ONE (HPC Degradation)\n",
    "\n",
    "Data Set: FD002 ==>\n",
    "Train trjectories: 260,\n",
    "Test trajectories: 259,\n",
    "Conditions: SIX,\n",
    "Fault Modes: ONE (HPC Degradation)\n",
    "\n",
    "###Experimental Scenario###\n",
    "\n",
    "Data sets consists of multiple multivariate time series. Each data set is further divided into training and test subsets. Each time series is from a different engine ñ i.e., the data can be considered to be from a fleet of engines of the same type. Each engine starts with different degrees of initial wear and manufacturing variation which is unknown to the user. This wear and variation is considered normal, i.e., it is not considered a fault condition. There are three operational settings that have a substantial effect on engine performance. These settings are also included in the data. The data is contaminated with sensor noise.\n",
    "\n",
    "The engine is operating normally at the start of each time series, and develops a fault at some point during the series. In the training set, the fault grows in magnitude until system failure. In the test set, the time series ends some time prior to system failure. The objective of the competition is to predict the number of remaining operational cycles before failure in the test set, i.e., the number of operational cycles after the last cycle that the engine will continue to operate. Also provided a vector of true Remaining Useful Life (RUL) values for the test data."
   ]
  },
  {
   "cell_type": "code",
   "execution_count": 1,
   "metadata": {
    "execution": {
     "iopub.execute_input": "2021-01-08T16:09:55.479293Z",
     "iopub.status.busy": "2021-01-08T16:09:55.478488Z",
     "iopub.status.idle": "2021-01-08T16:10:01.909566Z",
     "shell.execute_reply": "2021-01-08T16:10:01.908451Z"
    },
    "papermill": {
     "duration": 6.474244,
     "end_time": "2021-01-08T16:10:01.909687",
     "exception": false,
     "start_time": "2021-01-08T16:09:55.435443",
     "status": "completed"
    },
    "tags": []
   },
   "outputs": [],
   "source": [
    "import numpy as np\n",
    "import pandas as pd\n",
    "import seaborn as sns\n",
    "import tensorflow as tf\n",
    "import sklearn.metrics\n",
    "from matplotlib import pyplot as plt\n",
    "from sklearn.preprocessing import MinMaxScaler\n",
    "from sklearn.ensemble import RandomForestClassifier\n",
    "from sklearn.inspection import permutation_importance\n",
    "from keras.models import Sequential\n",
    "from keras.layers import LSTM\n",
    "from keras.layers import Dense, Dropout\n",
    "import tensorflow as tf\n",
    "import math\n",
    "from sklearn.metrics import mean_absolute_error\n",
    "from sklearn.metrics import r2_score\n",
    "from sklearn.metrics import mean_squared_error"
   ]
  },
  {
   "cell_type": "markdown",
   "metadata": {
    "papermill": {
     "duration": 0.031414,
     "end_time": "2021-01-08T16:10:01.973872",
     "exception": false,
     "start_time": "2021-01-08T16:10:01.942458",
     "status": "completed"
    },
    "tags": []
   },
   "source": [
    "Each row is a snapshot of data taken during a single operational cycle, each column is a different variable."
   ]
  },
  {
   "cell_type": "code",
   "execution_count": 2,
   "metadata": {
    "_cell_guid": "b1076dfc-b9ad-4769-8c92-a6c4dae69d19",
    "_uuid": "8f2839f25d086af736a60e9eeb907d3b93b6e0e5",
    "execution": {
     "iopub.execute_input": "2021-01-08T16:10:02.057999Z",
     "iopub.status.busy": "2021-01-08T16:10:02.057294Z",
     "iopub.status.idle": "2021-01-08T16:10:02.292526Z",
     "shell.execute_reply": "2021-01-08T16:10:02.291525Z"
    },
    "papermill": {
     "duration": 0.284442,
     "end_time": "2021-01-08T16:10:02.292645",
     "exception": false,
     "start_time": "2021-01-08T16:10:02.008203",
     "status": "completed"
    },
    "tags": []
   },
   "outputs": [],
   "source": [
    "rul_1_gt = pd.read_csv('../input/cmapssdata/RUL_FD001.txt', header=None)\n",
    "\n",
    "rul_1_gt.rename(columns={0: \"RUL_1gt\"}, inplace=True)\n",
    "################   ################   ################   ################   \n",
    "\n",
    "column_name_dict={ 0: \"engine_id\", 1: \"cycle\", 2: \"op_set_1\", 3: \"op_set_2\", 4: \"op_set_3\", 5:\"sensor_1\", 6: \"sensor_2\",\n",
    "                   7: \"sensor_3\", 8: \"sensor_4\", 9: \"sensor_5\", 10: \"sensor_6\", 11: \"sensor_7\", 12: \"sensor_8\", 13: \"sensor_9\",\n",
    "                  14: \"sensor_10\", 15: \"sensor_11\", 16: \"sensor_12\", 17: \"sensor_13\", 18: \"sensor_14\", 19: \"sensor_15\", 20: \"sensor_16\",\n",
    "                  21: \"sensor_17\", 22: \"sensor_18\", 23: \"sensor_19\", 24: \"sensor_20\", 25: \"sensor_21\", 26: \"sensor_22\", 27: \"sensor_23\"}\n",
    "\n",
    "test_1 = pd.read_csv('../input/cmapssdata/test_FD001.txt', header=None, sep=' ')\n",
    "\n",
    "test_1.rename(columns=column_name_dict, inplace=True)\n",
    "\n",
    "################   ################   ################   ################ \n",
    "\n",
    "train_1 = pd.read_csv('../input/cmapssdata/train_FD001.txt', header=None, sep=' ')\n",
    "\n",
    "train_1.rename(columns=column_name_dict, inplace=True)\n"
   ]
  },
  {
   "cell_type": "code",
   "execution_count": 3,
   "metadata": {
    "execution": {
     "iopub.execute_input": "2021-01-08T16:10:02.369145Z",
     "iopub.status.busy": "2021-01-08T16:10:02.368041Z",
     "iopub.status.idle": "2021-01-08T16:10:02.409721Z",
     "shell.execute_reply": "2021-01-08T16:10:02.410219Z"
    },
    "papermill": {
     "duration": 0.085885,
     "end_time": "2021-01-08T16:10:02.410351",
     "exception": false,
     "start_time": "2021-01-08T16:10:02.324466",
     "status": "completed"
    },
    "tags": []
   },
   "outputs": [
    {
     "data": {
      "text/html": [
       "<div>\n",
       "<style scoped>\n",
       "    .dataframe tbody tr th:only-of-type {\n",
       "        vertical-align: middle;\n",
       "    }\n",
       "\n",
       "    .dataframe tbody tr th {\n",
       "        vertical-align: top;\n",
       "    }\n",
       "\n",
       "    .dataframe thead th {\n",
       "        text-align: right;\n",
       "    }\n",
       "</style>\n",
       "<table border=\"1\" class=\"dataframe\">\n",
       "  <thead>\n",
       "    <tr style=\"text-align: right;\">\n",
       "      <th></th>\n",
       "      <th>engine_id</th>\n",
       "      <th>cycle</th>\n",
       "      <th>op_set_1</th>\n",
       "      <th>op_set_2</th>\n",
       "      <th>op_set_3</th>\n",
       "      <th>sensor_1</th>\n",
       "      <th>sensor_2</th>\n",
       "      <th>sensor_3</th>\n",
       "      <th>sensor_4</th>\n",
       "      <th>sensor_5</th>\n",
       "      <th>...</th>\n",
       "      <th>sensor_14</th>\n",
       "      <th>sensor_15</th>\n",
       "      <th>sensor_16</th>\n",
       "      <th>sensor_17</th>\n",
       "      <th>sensor_18</th>\n",
       "      <th>sensor_19</th>\n",
       "      <th>sensor_20</th>\n",
       "      <th>sensor_21</th>\n",
       "      <th>sensor_22</th>\n",
       "      <th>sensor_23</th>\n",
       "    </tr>\n",
       "  </thead>\n",
       "  <tbody>\n",
       "    <tr>\n",
       "      <th>0</th>\n",
       "      <td>1</td>\n",
       "      <td>1</td>\n",
       "      <td>-0.0007</td>\n",
       "      <td>-0.0004</td>\n",
       "      <td>100.0</td>\n",
       "      <td>518.67</td>\n",
       "      <td>641.82</td>\n",
       "      <td>1589.70</td>\n",
       "      <td>1400.60</td>\n",
       "      <td>14.62</td>\n",
       "      <td>...</td>\n",
       "      <td>8138.62</td>\n",
       "      <td>8.4195</td>\n",
       "      <td>0.03</td>\n",
       "      <td>392</td>\n",
       "      <td>2388</td>\n",
       "      <td>100.0</td>\n",
       "      <td>39.06</td>\n",
       "      <td>23.4190</td>\n",
       "      <td>NaN</td>\n",
       "      <td>NaN</td>\n",
       "    </tr>\n",
       "    <tr>\n",
       "      <th>1</th>\n",
       "      <td>1</td>\n",
       "      <td>2</td>\n",
       "      <td>0.0019</td>\n",
       "      <td>-0.0003</td>\n",
       "      <td>100.0</td>\n",
       "      <td>518.67</td>\n",
       "      <td>642.15</td>\n",
       "      <td>1591.82</td>\n",
       "      <td>1403.14</td>\n",
       "      <td>14.62</td>\n",
       "      <td>...</td>\n",
       "      <td>8131.49</td>\n",
       "      <td>8.4318</td>\n",
       "      <td>0.03</td>\n",
       "      <td>392</td>\n",
       "      <td>2388</td>\n",
       "      <td>100.0</td>\n",
       "      <td>39.00</td>\n",
       "      <td>23.4236</td>\n",
       "      <td>NaN</td>\n",
       "      <td>NaN</td>\n",
       "    </tr>\n",
       "    <tr>\n",
       "      <th>2</th>\n",
       "      <td>1</td>\n",
       "      <td>3</td>\n",
       "      <td>-0.0043</td>\n",
       "      <td>0.0003</td>\n",
       "      <td>100.0</td>\n",
       "      <td>518.67</td>\n",
       "      <td>642.35</td>\n",
       "      <td>1587.99</td>\n",
       "      <td>1404.20</td>\n",
       "      <td>14.62</td>\n",
       "      <td>...</td>\n",
       "      <td>8133.23</td>\n",
       "      <td>8.4178</td>\n",
       "      <td>0.03</td>\n",
       "      <td>390</td>\n",
       "      <td>2388</td>\n",
       "      <td>100.0</td>\n",
       "      <td>38.95</td>\n",
       "      <td>23.3442</td>\n",
       "      <td>NaN</td>\n",
       "      <td>NaN</td>\n",
       "    </tr>\n",
       "    <tr>\n",
       "      <th>3</th>\n",
       "      <td>1</td>\n",
       "      <td>4</td>\n",
       "      <td>0.0007</td>\n",
       "      <td>0.0000</td>\n",
       "      <td>100.0</td>\n",
       "      <td>518.67</td>\n",
       "      <td>642.35</td>\n",
       "      <td>1582.79</td>\n",
       "      <td>1401.87</td>\n",
       "      <td>14.62</td>\n",
       "      <td>...</td>\n",
       "      <td>8133.83</td>\n",
       "      <td>8.3682</td>\n",
       "      <td>0.03</td>\n",
       "      <td>392</td>\n",
       "      <td>2388</td>\n",
       "      <td>100.0</td>\n",
       "      <td>38.88</td>\n",
       "      <td>23.3739</td>\n",
       "      <td>NaN</td>\n",
       "      <td>NaN</td>\n",
       "    </tr>\n",
       "    <tr>\n",
       "      <th>4</th>\n",
       "      <td>1</td>\n",
       "      <td>5</td>\n",
       "      <td>-0.0019</td>\n",
       "      <td>-0.0002</td>\n",
       "      <td>100.0</td>\n",
       "      <td>518.67</td>\n",
       "      <td>642.37</td>\n",
       "      <td>1582.85</td>\n",
       "      <td>1406.22</td>\n",
       "      <td>14.62</td>\n",
       "      <td>...</td>\n",
       "      <td>8133.80</td>\n",
       "      <td>8.4294</td>\n",
       "      <td>0.03</td>\n",
       "      <td>393</td>\n",
       "      <td>2388</td>\n",
       "      <td>100.0</td>\n",
       "      <td>38.90</td>\n",
       "      <td>23.4044</td>\n",
       "      <td>NaN</td>\n",
       "      <td>NaN</td>\n",
       "    </tr>\n",
       "    <tr>\n",
       "      <th>...</th>\n",
       "      <td>...</td>\n",
       "      <td>...</td>\n",
       "      <td>...</td>\n",
       "      <td>...</td>\n",
       "      <td>...</td>\n",
       "      <td>...</td>\n",
       "      <td>...</td>\n",
       "      <td>...</td>\n",
       "      <td>...</td>\n",
       "      <td>...</td>\n",
       "      <td>...</td>\n",
       "      <td>...</td>\n",
       "      <td>...</td>\n",
       "      <td>...</td>\n",
       "      <td>...</td>\n",
       "      <td>...</td>\n",
       "      <td>...</td>\n",
       "      <td>...</td>\n",
       "      <td>...</td>\n",
       "      <td>...</td>\n",
       "      <td>...</td>\n",
       "    </tr>\n",
       "    <tr>\n",
       "      <th>20626</th>\n",
       "      <td>100</td>\n",
       "      <td>196</td>\n",
       "      <td>-0.0004</td>\n",
       "      <td>-0.0003</td>\n",
       "      <td>100.0</td>\n",
       "      <td>518.67</td>\n",
       "      <td>643.49</td>\n",
       "      <td>1597.98</td>\n",
       "      <td>1428.63</td>\n",
       "      <td>14.62</td>\n",
       "      <td>...</td>\n",
       "      <td>8137.60</td>\n",
       "      <td>8.4956</td>\n",
       "      <td>0.03</td>\n",
       "      <td>397</td>\n",
       "      <td>2388</td>\n",
       "      <td>100.0</td>\n",
       "      <td>38.49</td>\n",
       "      <td>22.9735</td>\n",
       "      <td>NaN</td>\n",
       "      <td>NaN</td>\n",
       "    </tr>\n",
       "    <tr>\n",
       "      <th>20627</th>\n",
       "      <td>100</td>\n",
       "      <td>197</td>\n",
       "      <td>-0.0016</td>\n",
       "      <td>-0.0005</td>\n",
       "      <td>100.0</td>\n",
       "      <td>518.67</td>\n",
       "      <td>643.54</td>\n",
       "      <td>1604.50</td>\n",
       "      <td>1433.58</td>\n",
       "      <td>14.62</td>\n",
       "      <td>...</td>\n",
       "      <td>8136.50</td>\n",
       "      <td>8.5139</td>\n",
       "      <td>0.03</td>\n",
       "      <td>395</td>\n",
       "      <td>2388</td>\n",
       "      <td>100.0</td>\n",
       "      <td>38.30</td>\n",
       "      <td>23.1594</td>\n",
       "      <td>NaN</td>\n",
       "      <td>NaN</td>\n",
       "    </tr>\n",
       "    <tr>\n",
       "      <th>20628</th>\n",
       "      <td>100</td>\n",
       "      <td>198</td>\n",
       "      <td>0.0004</td>\n",
       "      <td>0.0000</td>\n",
       "      <td>100.0</td>\n",
       "      <td>518.67</td>\n",
       "      <td>643.42</td>\n",
       "      <td>1602.46</td>\n",
       "      <td>1428.18</td>\n",
       "      <td>14.62</td>\n",
       "      <td>...</td>\n",
       "      <td>8141.05</td>\n",
       "      <td>8.5646</td>\n",
       "      <td>0.03</td>\n",
       "      <td>398</td>\n",
       "      <td>2388</td>\n",
       "      <td>100.0</td>\n",
       "      <td>38.44</td>\n",
       "      <td>22.9333</td>\n",
       "      <td>NaN</td>\n",
       "      <td>NaN</td>\n",
       "    </tr>\n",
       "    <tr>\n",
       "      <th>20629</th>\n",
       "      <td>100</td>\n",
       "      <td>199</td>\n",
       "      <td>-0.0011</td>\n",
       "      <td>0.0003</td>\n",
       "      <td>100.0</td>\n",
       "      <td>518.67</td>\n",
       "      <td>643.23</td>\n",
       "      <td>1605.26</td>\n",
       "      <td>1426.53</td>\n",
       "      <td>14.62</td>\n",
       "      <td>...</td>\n",
       "      <td>8139.29</td>\n",
       "      <td>8.5389</td>\n",
       "      <td>0.03</td>\n",
       "      <td>395</td>\n",
       "      <td>2388</td>\n",
       "      <td>100.0</td>\n",
       "      <td>38.29</td>\n",
       "      <td>23.0640</td>\n",
       "      <td>NaN</td>\n",
       "      <td>NaN</td>\n",
       "    </tr>\n",
       "    <tr>\n",
       "      <th>20630</th>\n",
       "      <td>100</td>\n",
       "      <td>200</td>\n",
       "      <td>-0.0032</td>\n",
       "      <td>-0.0005</td>\n",
       "      <td>100.0</td>\n",
       "      <td>518.67</td>\n",
       "      <td>643.85</td>\n",
       "      <td>1600.38</td>\n",
       "      <td>1432.14</td>\n",
       "      <td>14.62</td>\n",
       "      <td>...</td>\n",
       "      <td>8137.33</td>\n",
       "      <td>8.5036</td>\n",
       "      <td>0.03</td>\n",
       "      <td>396</td>\n",
       "      <td>2388</td>\n",
       "      <td>100.0</td>\n",
       "      <td>38.37</td>\n",
       "      <td>23.0522</td>\n",
       "      <td>NaN</td>\n",
       "      <td>NaN</td>\n",
       "    </tr>\n",
       "  </tbody>\n",
       "</table>\n",
       "<p>20631 rows × 28 columns</p>\n",
       "</div>"
      ],
      "text/plain": [
       "       engine_id  cycle  op_set_1  op_set_2  op_set_3  sensor_1  sensor_2  \\\n",
       "0              1      1   -0.0007   -0.0004     100.0    518.67    641.82   \n",
       "1              1      2    0.0019   -0.0003     100.0    518.67    642.15   \n",
       "2              1      3   -0.0043    0.0003     100.0    518.67    642.35   \n",
       "3              1      4    0.0007    0.0000     100.0    518.67    642.35   \n",
       "4              1      5   -0.0019   -0.0002     100.0    518.67    642.37   \n",
       "...          ...    ...       ...       ...       ...       ...       ...   \n",
       "20626        100    196   -0.0004   -0.0003     100.0    518.67    643.49   \n",
       "20627        100    197   -0.0016   -0.0005     100.0    518.67    643.54   \n",
       "20628        100    198    0.0004    0.0000     100.0    518.67    643.42   \n",
       "20629        100    199   -0.0011    0.0003     100.0    518.67    643.23   \n",
       "20630        100    200   -0.0032   -0.0005     100.0    518.67    643.85   \n",
       "\n",
       "       sensor_3  sensor_4  sensor_5  ...  sensor_14  sensor_15  sensor_16  \\\n",
       "0       1589.70   1400.60     14.62  ...    8138.62     8.4195       0.03   \n",
       "1       1591.82   1403.14     14.62  ...    8131.49     8.4318       0.03   \n",
       "2       1587.99   1404.20     14.62  ...    8133.23     8.4178       0.03   \n",
       "3       1582.79   1401.87     14.62  ...    8133.83     8.3682       0.03   \n",
       "4       1582.85   1406.22     14.62  ...    8133.80     8.4294       0.03   \n",
       "...         ...       ...       ...  ...        ...        ...        ...   \n",
       "20626   1597.98   1428.63     14.62  ...    8137.60     8.4956       0.03   \n",
       "20627   1604.50   1433.58     14.62  ...    8136.50     8.5139       0.03   \n",
       "20628   1602.46   1428.18     14.62  ...    8141.05     8.5646       0.03   \n",
       "20629   1605.26   1426.53     14.62  ...    8139.29     8.5389       0.03   \n",
       "20630   1600.38   1432.14     14.62  ...    8137.33     8.5036       0.03   \n",
       "\n",
       "       sensor_17  sensor_18  sensor_19  sensor_20  sensor_21  sensor_22  \\\n",
       "0            392       2388      100.0      39.06    23.4190        NaN   \n",
       "1            392       2388      100.0      39.00    23.4236        NaN   \n",
       "2            390       2388      100.0      38.95    23.3442        NaN   \n",
       "3            392       2388      100.0      38.88    23.3739        NaN   \n",
       "4            393       2388      100.0      38.90    23.4044        NaN   \n",
       "...          ...        ...        ...        ...        ...        ...   \n",
       "20626        397       2388      100.0      38.49    22.9735        NaN   \n",
       "20627        395       2388      100.0      38.30    23.1594        NaN   \n",
       "20628        398       2388      100.0      38.44    22.9333        NaN   \n",
       "20629        395       2388      100.0      38.29    23.0640        NaN   \n",
       "20630        396       2388      100.0      38.37    23.0522        NaN   \n",
       "\n",
       "       sensor_23  \n",
       "0            NaN  \n",
       "1            NaN  \n",
       "2            NaN  \n",
       "3            NaN  \n",
       "4            NaN  \n",
       "...          ...  \n",
       "20626        NaN  \n",
       "20627        NaN  \n",
       "20628        NaN  \n",
       "20629        NaN  \n",
       "20630        NaN  \n",
       "\n",
       "[20631 rows x 28 columns]"
      ]
     },
     "execution_count": 3,
     "metadata": {},
     "output_type": "execute_result"
    }
   ],
   "source": [
    "train_1"
   ]
  },
  {
   "cell_type": "code",
   "execution_count": 4,
   "metadata": {
    "execution": {
     "iopub.execute_input": "2021-01-08T16:10:02.528002Z",
     "iopub.status.busy": "2021-01-08T16:10:02.527181Z",
     "iopub.status.idle": "2021-01-08T16:10:02.531581Z",
     "shell.execute_reply": "2021-01-08T16:10:02.531064Z"
    },
    "papermill": {
     "duration": 0.088763,
     "end_time": "2021-01-08T16:10:02.531683",
     "exception": false,
     "start_time": "2021-01-08T16:10:02.442920",
     "status": "completed"
    },
    "tags": []
   },
   "outputs": [],
   "source": [
    "#drop the last 2 columns from train and test sets since NaN\n",
    "train_1.drop(columns=[\"sensor_22\", \"sensor_23\"], inplace=True)\n",
    "test_1.drop(columns=[\"sensor_22\", \"sensor_23\"], inplace=True)"
   ]
  },
  {
   "cell_type": "markdown",
   "metadata": {
    "papermill": {
     "duration": 0.032763,
     "end_time": "2021-01-08T16:10:02.597520",
     "exception": false,
     "start_time": "2021-01-08T16:10:02.564757",
     "status": "completed"
    },
    "tags": []
   },
   "source": [
    "Compute RUL values"
   ]
  },
  {
   "cell_type": "code",
   "execution_count": 5,
   "metadata": {
    "execution": {
     "iopub.execute_input": "2021-01-08T16:10:02.670389Z",
     "iopub.status.busy": "2021-01-08T16:10:02.669688Z",
     "iopub.status.idle": "2021-01-08T16:10:02.719176Z",
     "shell.execute_reply": "2021-01-08T16:10:02.719825Z"
    },
    "papermill": {
     "duration": 0.090423,
     "end_time": "2021-01-08T16:10:02.720003",
     "exception": false,
     "start_time": "2021-01-08T16:10:02.629580",
     "status": "completed"
    },
    "tags": []
   },
   "outputs": [],
   "source": [
    "#RUL for train_1 \n",
    "rul_1 = pd.DataFrame(train_1.groupby('engine_id')['cycle'].max()).reset_index()\n",
    "rul_1.columns = ['engine_id', 'max']\n",
    "\n",
    "rul_train_1 = train_1.merge(rul_1, on=['engine_id'], how='left')\n",
    "rul_train_1['RUL'] = rul_train_1['max'] - rul_train_1['cycle']\n",
    "rul_train_1.drop(['max'], axis=1, inplace=True)"
   ]
  },
  {
   "cell_type": "code",
   "execution_count": 6,
   "metadata": {
    "execution": {
     "iopub.execute_input": "2021-01-08T16:10:02.798369Z",
     "iopub.status.busy": "2021-01-08T16:10:02.797511Z",
     "iopub.status.idle": "2021-01-08T16:10:02.819358Z",
     "shell.execute_reply": "2021-01-08T16:10:02.818885Z"
    },
    "papermill": {
     "duration": 0.065479,
     "end_time": "2021-01-08T16:10:02.819485",
     "exception": false,
     "start_time": "2021-01-08T16:10:02.754006",
     "status": "completed"
    },
    "tags": []
   },
   "outputs": [],
   "source": [
    "#RUL for test_1\n",
    "rul_1_gt[\"engine_id\"]=rul_1_gt.index + 1\n",
    "\n",
    "max_1 = pd.DataFrame(test_1.groupby('engine_id')['cycle'].max()).reset_index()\n",
    "max_1.columns = ['engine_id', 'max']\n",
    "max_test_1 = test_1.merge(max_1, on=['engine_id'], how='left')\n",
    "rul_test_1 = max_test_1.merge(rul_1_gt, on=['engine_id'], how='left')\n",
    "\n",
    "rul_test_1['RUL'] = rul_test_1['max'] - rul_test_1['cycle'] + rul_test_1[\"RUL_1gt\"] \n",
    "rul_test_1.drop(['max', 'RUL_1gt'], axis=1, inplace=True)\n"
   ]
  },
  {
   "cell_type": "code",
   "execution_count": 7,
   "metadata": {
    "execution": {
     "iopub.execute_input": "2021-01-08T16:10:02.891451Z",
     "iopub.status.busy": "2021-01-08T16:10:02.890837Z",
     "iopub.status.idle": "2021-01-08T16:10:03.117173Z",
     "shell.execute_reply": "2021-01-08T16:10:03.117671Z"
    },
    "papermill": {
     "duration": 0.265136,
     "end_time": "2021-01-08T16:10:03.117819",
     "exception": false,
     "start_time": "2021-01-08T16:10:02.852683",
     "status": "completed"
    },
    "tags": []
   },
   "outputs": [
    {
     "data": {
      "text/html": [
       "<div>\n",
       "<style scoped>\n",
       "    .dataframe tbody tr th:only-of-type {\n",
       "        vertical-align: middle;\n",
       "    }\n",
       "\n",
       "    .dataframe tbody tr th {\n",
       "        vertical-align: top;\n",
       "    }\n",
       "\n",
       "    .dataframe thead th {\n",
       "        text-align: right;\n",
       "    }\n",
       "</style>\n",
       "<table border=\"1\" class=\"dataframe\">\n",
       "  <thead>\n",
       "    <tr style=\"text-align: right;\">\n",
       "      <th></th>\n",
       "      <th>count</th>\n",
       "      <th>mean</th>\n",
       "      <th>std</th>\n",
       "      <th>min</th>\n",
       "      <th>25%</th>\n",
       "      <th>50%</th>\n",
       "      <th>75%</th>\n",
       "      <th>max</th>\n",
       "    </tr>\n",
       "    <tr>\n",
       "      <th>engine_id</th>\n",
       "      <th></th>\n",
       "      <th></th>\n",
       "      <th></th>\n",
       "      <th></th>\n",
       "      <th></th>\n",
       "      <th></th>\n",
       "      <th></th>\n",
       "      <th></th>\n",
       "    </tr>\n",
       "  </thead>\n",
       "  <tbody>\n",
       "    <tr>\n",
       "      <th>1</th>\n",
       "      <td>192.0</td>\n",
       "      <td>96.5</td>\n",
       "      <td>55.569776</td>\n",
       "      <td>1.0</td>\n",
       "      <td>48.75</td>\n",
       "      <td>96.5</td>\n",
       "      <td>144.25</td>\n",
       "      <td>192.0</td>\n",
       "    </tr>\n",
       "    <tr>\n",
       "      <th>2</th>\n",
       "      <td>287.0</td>\n",
       "      <td>144.0</td>\n",
       "      <td>82.993976</td>\n",
       "      <td>1.0</td>\n",
       "      <td>72.50</td>\n",
       "      <td>144.0</td>\n",
       "      <td>215.50</td>\n",
       "      <td>287.0</td>\n",
       "    </tr>\n",
       "    <tr>\n",
       "      <th>3</th>\n",
       "      <td>179.0</td>\n",
       "      <td>90.0</td>\n",
       "      <td>51.816986</td>\n",
       "      <td>1.0</td>\n",
       "      <td>45.50</td>\n",
       "      <td>90.0</td>\n",
       "      <td>134.50</td>\n",
       "      <td>179.0</td>\n",
       "    </tr>\n",
       "    <tr>\n",
       "      <th>4</th>\n",
       "      <td>189.0</td>\n",
       "      <td>95.0</td>\n",
       "      <td>54.703748</td>\n",
       "      <td>1.0</td>\n",
       "      <td>48.00</td>\n",
       "      <td>95.0</td>\n",
       "      <td>142.00</td>\n",
       "      <td>189.0</td>\n",
       "    </tr>\n",
       "    <tr>\n",
       "      <th>5</th>\n",
       "      <td>269.0</td>\n",
       "      <td>135.0</td>\n",
       "      <td>77.797815</td>\n",
       "      <td>1.0</td>\n",
       "      <td>68.00</td>\n",
       "      <td>135.0</td>\n",
       "      <td>202.00</td>\n",
       "      <td>269.0</td>\n",
       "    </tr>\n",
       "    <tr>\n",
       "      <th>...</th>\n",
       "      <td>...</td>\n",
       "      <td>...</td>\n",
       "      <td>...</td>\n",
       "      <td>...</td>\n",
       "      <td>...</td>\n",
       "      <td>...</td>\n",
       "      <td>...</td>\n",
       "      <td>...</td>\n",
       "    </tr>\n",
       "    <tr>\n",
       "      <th>96</th>\n",
       "      <td>336.0</td>\n",
       "      <td>168.5</td>\n",
       "      <td>97.139076</td>\n",
       "      <td>1.0</td>\n",
       "      <td>84.75</td>\n",
       "      <td>168.5</td>\n",
       "      <td>252.25</td>\n",
       "      <td>336.0</td>\n",
       "    </tr>\n",
       "    <tr>\n",
       "      <th>97</th>\n",
       "      <td>202.0</td>\n",
       "      <td>101.5</td>\n",
       "      <td>58.456537</td>\n",
       "      <td>1.0</td>\n",
       "      <td>51.25</td>\n",
       "      <td>101.5</td>\n",
       "      <td>151.75</td>\n",
       "      <td>202.0</td>\n",
       "    </tr>\n",
       "    <tr>\n",
       "      <th>98</th>\n",
       "      <td>156.0</td>\n",
       "      <td>78.5</td>\n",
       "      <td>45.177428</td>\n",
       "      <td>1.0</td>\n",
       "      <td>39.75</td>\n",
       "      <td>78.5</td>\n",
       "      <td>117.25</td>\n",
       "      <td>156.0</td>\n",
       "    </tr>\n",
       "    <tr>\n",
       "      <th>99</th>\n",
       "      <td>185.0</td>\n",
       "      <td>93.0</td>\n",
       "      <td>53.549043</td>\n",
       "      <td>1.0</td>\n",
       "      <td>47.00</td>\n",
       "      <td>93.0</td>\n",
       "      <td>139.00</td>\n",
       "      <td>185.0</td>\n",
       "    </tr>\n",
       "    <tr>\n",
       "      <th>100</th>\n",
       "      <td>200.0</td>\n",
       "      <td>100.5</td>\n",
       "      <td>57.879185</td>\n",
       "      <td>1.0</td>\n",
       "      <td>50.75</td>\n",
       "      <td>100.5</td>\n",
       "      <td>150.25</td>\n",
       "      <td>200.0</td>\n",
       "    </tr>\n",
       "  </tbody>\n",
       "</table>\n",
       "<p>100 rows × 8 columns</p>\n",
       "</div>"
      ],
      "text/plain": [
       "           count   mean        std  min    25%    50%     75%    max\n",
       "engine_id                                                           \n",
       "1          192.0   96.5  55.569776  1.0  48.75   96.5  144.25  192.0\n",
       "2          287.0  144.0  82.993976  1.0  72.50  144.0  215.50  287.0\n",
       "3          179.0   90.0  51.816986  1.0  45.50   90.0  134.50  179.0\n",
       "4          189.0   95.0  54.703748  1.0  48.00   95.0  142.00  189.0\n",
       "5          269.0  135.0  77.797815  1.0  68.00  135.0  202.00  269.0\n",
       "...          ...    ...        ...  ...    ...    ...     ...    ...\n",
       "96         336.0  168.5  97.139076  1.0  84.75  168.5  252.25  336.0\n",
       "97         202.0  101.5  58.456537  1.0  51.25  101.5  151.75  202.0\n",
       "98         156.0   78.5  45.177428  1.0  39.75   78.5  117.25  156.0\n",
       "99         185.0   93.0  53.549043  1.0  47.00   93.0  139.00  185.0\n",
       "100        200.0  100.5  57.879185  1.0  50.75  100.5  150.25  200.0\n",
       "\n",
       "[100 rows x 8 columns]"
      ]
     },
     "execution_count": 7,
     "metadata": {},
     "output_type": "execute_result"
    }
   ],
   "source": [
    "rul_train_1.groupby('engine_id')['cycle'].describe()"
   ]
  },
  {
   "cell_type": "code",
   "execution_count": 8,
   "metadata": {
    "execution": {
     "iopub.execute_input": "2021-01-08T16:10:03.198373Z",
     "iopub.status.busy": "2021-01-08T16:10:03.197445Z",
     "iopub.status.idle": "2021-01-08T16:10:03.288961Z",
     "shell.execute_reply": "2021-01-08T16:10:03.289462Z"
    },
    "papermill": {
     "duration": 0.137482,
     "end_time": "2021-01-08T16:10:03.289630",
     "exception": false,
     "start_time": "2021-01-08T16:10:03.152148",
     "status": "completed"
    },
    "tags": []
   },
   "outputs": [
    {
     "data": {
      "text/html": [
       "<div>\n",
       "<style scoped>\n",
       "    .dataframe tbody tr th:only-of-type {\n",
       "        vertical-align: middle;\n",
       "    }\n",
       "\n",
       "    .dataframe tbody tr th {\n",
       "        vertical-align: top;\n",
       "    }\n",
       "\n",
       "    .dataframe thead th {\n",
       "        text-align: right;\n",
       "    }\n",
       "</style>\n",
       "<table border=\"1\" class=\"dataframe\">\n",
       "  <thead>\n",
       "    <tr style=\"text-align: right;\">\n",
       "      <th></th>\n",
       "      <th>count</th>\n",
       "      <th>mean</th>\n",
       "      <th>std</th>\n",
       "      <th>min</th>\n",
       "      <th>25%</th>\n",
       "      <th>50%</th>\n",
       "      <th>75%</th>\n",
       "      <th>max</th>\n",
       "    </tr>\n",
       "  </thead>\n",
       "  <tbody>\n",
       "    <tr>\n",
       "      <th>engine_id</th>\n",
       "      <td>20631.0</td>\n",
       "      <td>51.506568</td>\n",
       "      <td>2.922763e+01</td>\n",
       "      <td>1.0000</td>\n",
       "      <td>26.0000</td>\n",
       "      <td>52.0000</td>\n",
       "      <td>77.0000</td>\n",
       "      <td>100.0000</td>\n",
       "    </tr>\n",
       "    <tr>\n",
       "      <th>cycle</th>\n",
       "      <td>20631.0</td>\n",
       "      <td>108.807862</td>\n",
       "      <td>6.888099e+01</td>\n",
       "      <td>1.0000</td>\n",
       "      <td>52.0000</td>\n",
       "      <td>104.0000</td>\n",
       "      <td>156.0000</td>\n",
       "      <td>362.0000</td>\n",
       "    </tr>\n",
       "    <tr>\n",
       "      <th>op_set_1</th>\n",
       "      <td>20631.0</td>\n",
       "      <td>-0.000009</td>\n",
       "      <td>2.187313e-03</td>\n",
       "      <td>-0.0087</td>\n",
       "      <td>-0.0015</td>\n",
       "      <td>0.0000</td>\n",
       "      <td>0.0015</td>\n",
       "      <td>0.0087</td>\n",
       "    </tr>\n",
       "    <tr>\n",
       "      <th>op_set_2</th>\n",
       "      <td>20631.0</td>\n",
       "      <td>0.000002</td>\n",
       "      <td>2.930621e-04</td>\n",
       "      <td>-0.0006</td>\n",
       "      <td>-0.0002</td>\n",
       "      <td>0.0000</td>\n",
       "      <td>0.0003</td>\n",
       "      <td>0.0006</td>\n",
       "    </tr>\n",
       "    <tr>\n",
       "      <th>op_set_3</th>\n",
       "      <td>20631.0</td>\n",
       "      <td>100.000000</td>\n",
       "      <td>0.000000e+00</td>\n",
       "      <td>100.0000</td>\n",
       "      <td>100.0000</td>\n",
       "      <td>100.0000</td>\n",
       "      <td>100.0000</td>\n",
       "      <td>100.0000</td>\n",
       "    </tr>\n",
       "    <tr>\n",
       "      <th>sensor_1</th>\n",
       "      <td>20631.0</td>\n",
       "      <td>518.670000</td>\n",
       "      <td>6.537152e-11</td>\n",
       "      <td>518.6700</td>\n",
       "      <td>518.6700</td>\n",
       "      <td>518.6700</td>\n",
       "      <td>518.6700</td>\n",
       "      <td>518.6700</td>\n",
       "    </tr>\n",
       "    <tr>\n",
       "      <th>sensor_2</th>\n",
       "      <td>20631.0</td>\n",
       "      <td>642.680934</td>\n",
       "      <td>5.000533e-01</td>\n",
       "      <td>641.2100</td>\n",
       "      <td>642.3250</td>\n",
       "      <td>642.6400</td>\n",
       "      <td>643.0000</td>\n",
       "      <td>644.5300</td>\n",
       "    </tr>\n",
       "    <tr>\n",
       "      <th>sensor_3</th>\n",
       "      <td>20631.0</td>\n",
       "      <td>1590.523119</td>\n",
       "      <td>6.131150e+00</td>\n",
       "      <td>1571.0400</td>\n",
       "      <td>1586.2600</td>\n",
       "      <td>1590.1000</td>\n",
       "      <td>1594.3800</td>\n",
       "      <td>1616.9100</td>\n",
       "    </tr>\n",
       "    <tr>\n",
       "      <th>sensor_4</th>\n",
       "      <td>20631.0</td>\n",
       "      <td>1408.933782</td>\n",
       "      <td>9.000605e+00</td>\n",
       "      <td>1382.2500</td>\n",
       "      <td>1402.3600</td>\n",
       "      <td>1408.0400</td>\n",
       "      <td>1414.5550</td>\n",
       "      <td>1441.4900</td>\n",
       "    </tr>\n",
       "    <tr>\n",
       "      <th>sensor_5</th>\n",
       "      <td>20631.0</td>\n",
       "      <td>14.620000</td>\n",
       "      <td>3.394700e-12</td>\n",
       "      <td>14.6200</td>\n",
       "      <td>14.6200</td>\n",
       "      <td>14.6200</td>\n",
       "      <td>14.6200</td>\n",
       "      <td>14.6200</td>\n",
       "    </tr>\n",
       "    <tr>\n",
       "      <th>sensor_6</th>\n",
       "      <td>20631.0</td>\n",
       "      <td>21.609803</td>\n",
       "      <td>1.388985e-03</td>\n",
       "      <td>21.6000</td>\n",
       "      <td>21.6100</td>\n",
       "      <td>21.6100</td>\n",
       "      <td>21.6100</td>\n",
       "      <td>21.6100</td>\n",
       "    </tr>\n",
       "    <tr>\n",
       "      <th>sensor_7</th>\n",
       "      <td>20631.0</td>\n",
       "      <td>553.367711</td>\n",
       "      <td>8.850923e-01</td>\n",
       "      <td>549.8500</td>\n",
       "      <td>552.8100</td>\n",
       "      <td>553.4400</td>\n",
       "      <td>554.0100</td>\n",
       "      <td>556.0600</td>\n",
       "    </tr>\n",
       "    <tr>\n",
       "      <th>sensor_8</th>\n",
       "      <td>20631.0</td>\n",
       "      <td>2388.096652</td>\n",
       "      <td>7.098548e-02</td>\n",
       "      <td>2387.9000</td>\n",
       "      <td>2388.0500</td>\n",
       "      <td>2388.0900</td>\n",
       "      <td>2388.1400</td>\n",
       "      <td>2388.5600</td>\n",
       "    </tr>\n",
       "    <tr>\n",
       "      <th>sensor_9</th>\n",
       "      <td>20631.0</td>\n",
       "      <td>9065.242941</td>\n",
       "      <td>2.208288e+01</td>\n",
       "      <td>9021.7300</td>\n",
       "      <td>9053.1000</td>\n",
       "      <td>9060.6600</td>\n",
       "      <td>9069.4200</td>\n",
       "      <td>9244.5900</td>\n",
       "    </tr>\n",
       "    <tr>\n",
       "      <th>sensor_10</th>\n",
       "      <td>20631.0</td>\n",
       "      <td>1.300000</td>\n",
       "      <td>4.660829e-13</td>\n",
       "      <td>1.3000</td>\n",
       "      <td>1.3000</td>\n",
       "      <td>1.3000</td>\n",
       "      <td>1.3000</td>\n",
       "      <td>1.3000</td>\n",
       "    </tr>\n",
       "    <tr>\n",
       "      <th>sensor_11</th>\n",
       "      <td>20631.0</td>\n",
       "      <td>47.541168</td>\n",
       "      <td>2.670874e-01</td>\n",
       "      <td>46.8500</td>\n",
       "      <td>47.3500</td>\n",
       "      <td>47.5100</td>\n",
       "      <td>47.7000</td>\n",
       "      <td>48.5300</td>\n",
       "    </tr>\n",
       "    <tr>\n",
       "      <th>sensor_12</th>\n",
       "      <td>20631.0</td>\n",
       "      <td>521.413470</td>\n",
       "      <td>7.375534e-01</td>\n",
       "      <td>518.6900</td>\n",
       "      <td>520.9600</td>\n",
       "      <td>521.4800</td>\n",
       "      <td>521.9500</td>\n",
       "      <td>523.3800</td>\n",
       "    </tr>\n",
       "    <tr>\n",
       "      <th>sensor_13</th>\n",
       "      <td>20631.0</td>\n",
       "      <td>2388.096152</td>\n",
       "      <td>7.191892e-02</td>\n",
       "      <td>2387.8800</td>\n",
       "      <td>2388.0400</td>\n",
       "      <td>2388.0900</td>\n",
       "      <td>2388.1400</td>\n",
       "      <td>2388.5600</td>\n",
       "    </tr>\n",
       "    <tr>\n",
       "      <th>sensor_14</th>\n",
       "      <td>20631.0</td>\n",
       "      <td>8143.752722</td>\n",
       "      <td>1.907618e+01</td>\n",
       "      <td>8099.9400</td>\n",
       "      <td>8133.2450</td>\n",
       "      <td>8140.5400</td>\n",
       "      <td>8148.3100</td>\n",
       "      <td>8293.7200</td>\n",
       "    </tr>\n",
       "    <tr>\n",
       "      <th>sensor_15</th>\n",
       "      <td>20631.0</td>\n",
       "      <td>8.442146</td>\n",
       "      <td>3.750504e-02</td>\n",
       "      <td>8.3249</td>\n",
       "      <td>8.4149</td>\n",
       "      <td>8.4389</td>\n",
       "      <td>8.4656</td>\n",
       "      <td>8.5848</td>\n",
       "    </tr>\n",
       "    <tr>\n",
       "      <th>sensor_16</th>\n",
       "      <td>20631.0</td>\n",
       "      <td>0.030000</td>\n",
       "      <td>1.556432e-14</td>\n",
       "      <td>0.0300</td>\n",
       "      <td>0.0300</td>\n",
       "      <td>0.0300</td>\n",
       "      <td>0.0300</td>\n",
       "      <td>0.0300</td>\n",
       "    </tr>\n",
       "    <tr>\n",
       "      <th>sensor_17</th>\n",
       "      <td>20631.0</td>\n",
       "      <td>393.210654</td>\n",
       "      <td>1.548763e+00</td>\n",
       "      <td>388.0000</td>\n",
       "      <td>392.0000</td>\n",
       "      <td>393.0000</td>\n",
       "      <td>394.0000</td>\n",
       "      <td>400.0000</td>\n",
       "    </tr>\n",
       "    <tr>\n",
       "      <th>sensor_18</th>\n",
       "      <td>20631.0</td>\n",
       "      <td>2388.000000</td>\n",
       "      <td>0.000000e+00</td>\n",
       "      <td>2388.0000</td>\n",
       "      <td>2388.0000</td>\n",
       "      <td>2388.0000</td>\n",
       "      <td>2388.0000</td>\n",
       "      <td>2388.0000</td>\n",
       "    </tr>\n",
       "    <tr>\n",
       "      <th>sensor_19</th>\n",
       "      <td>20631.0</td>\n",
       "      <td>100.000000</td>\n",
       "      <td>0.000000e+00</td>\n",
       "      <td>100.0000</td>\n",
       "      <td>100.0000</td>\n",
       "      <td>100.0000</td>\n",
       "      <td>100.0000</td>\n",
       "      <td>100.0000</td>\n",
       "    </tr>\n",
       "    <tr>\n",
       "      <th>sensor_20</th>\n",
       "      <td>20631.0</td>\n",
       "      <td>38.816271</td>\n",
       "      <td>1.807464e-01</td>\n",
       "      <td>38.1400</td>\n",
       "      <td>38.7000</td>\n",
       "      <td>38.8300</td>\n",
       "      <td>38.9500</td>\n",
       "      <td>39.4300</td>\n",
       "    </tr>\n",
       "    <tr>\n",
       "      <th>sensor_21</th>\n",
       "      <td>20631.0</td>\n",
       "      <td>23.289705</td>\n",
       "      <td>1.082509e-01</td>\n",
       "      <td>22.8942</td>\n",
       "      <td>23.2218</td>\n",
       "      <td>23.2979</td>\n",
       "      <td>23.3668</td>\n",
       "      <td>23.6184</td>\n",
       "    </tr>\n",
       "    <tr>\n",
       "      <th>RUL</th>\n",
       "      <td>20631.0</td>\n",
       "      <td>107.807862</td>\n",
       "      <td>6.888099e+01</td>\n",
       "      <td>0.0000</td>\n",
       "      <td>51.0000</td>\n",
       "      <td>103.0000</td>\n",
       "      <td>155.0000</td>\n",
       "      <td>361.0000</td>\n",
       "    </tr>\n",
       "  </tbody>\n",
       "</table>\n",
       "</div>"
      ],
      "text/plain": [
       "             count         mean           std        min        25%  \\\n",
       "engine_id  20631.0    51.506568  2.922763e+01     1.0000    26.0000   \n",
       "cycle      20631.0   108.807862  6.888099e+01     1.0000    52.0000   \n",
       "op_set_1   20631.0    -0.000009  2.187313e-03    -0.0087    -0.0015   \n",
       "op_set_2   20631.0     0.000002  2.930621e-04    -0.0006    -0.0002   \n",
       "op_set_3   20631.0   100.000000  0.000000e+00   100.0000   100.0000   \n",
       "sensor_1   20631.0   518.670000  6.537152e-11   518.6700   518.6700   \n",
       "sensor_2   20631.0   642.680934  5.000533e-01   641.2100   642.3250   \n",
       "sensor_3   20631.0  1590.523119  6.131150e+00  1571.0400  1586.2600   \n",
       "sensor_4   20631.0  1408.933782  9.000605e+00  1382.2500  1402.3600   \n",
       "sensor_5   20631.0    14.620000  3.394700e-12    14.6200    14.6200   \n",
       "sensor_6   20631.0    21.609803  1.388985e-03    21.6000    21.6100   \n",
       "sensor_7   20631.0   553.367711  8.850923e-01   549.8500   552.8100   \n",
       "sensor_8   20631.0  2388.096652  7.098548e-02  2387.9000  2388.0500   \n",
       "sensor_9   20631.0  9065.242941  2.208288e+01  9021.7300  9053.1000   \n",
       "sensor_10  20631.0     1.300000  4.660829e-13     1.3000     1.3000   \n",
       "sensor_11  20631.0    47.541168  2.670874e-01    46.8500    47.3500   \n",
       "sensor_12  20631.0   521.413470  7.375534e-01   518.6900   520.9600   \n",
       "sensor_13  20631.0  2388.096152  7.191892e-02  2387.8800  2388.0400   \n",
       "sensor_14  20631.0  8143.752722  1.907618e+01  8099.9400  8133.2450   \n",
       "sensor_15  20631.0     8.442146  3.750504e-02     8.3249     8.4149   \n",
       "sensor_16  20631.0     0.030000  1.556432e-14     0.0300     0.0300   \n",
       "sensor_17  20631.0   393.210654  1.548763e+00   388.0000   392.0000   \n",
       "sensor_18  20631.0  2388.000000  0.000000e+00  2388.0000  2388.0000   \n",
       "sensor_19  20631.0   100.000000  0.000000e+00   100.0000   100.0000   \n",
       "sensor_20  20631.0    38.816271  1.807464e-01    38.1400    38.7000   \n",
       "sensor_21  20631.0    23.289705  1.082509e-01    22.8942    23.2218   \n",
       "RUL        20631.0   107.807862  6.888099e+01     0.0000    51.0000   \n",
       "\n",
       "                 50%        75%        max  \n",
       "engine_id    52.0000    77.0000   100.0000  \n",
       "cycle       104.0000   156.0000   362.0000  \n",
       "op_set_1      0.0000     0.0015     0.0087  \n",
       "op_set_2      0.0000     0.0003     0.0006  \n",
       "op_set_3    100.0000   100.0000   100.0000  \n",
       "sensor_1    518.6700   518.6700   518.6700  \n",
       "sensor_2    642.6400   643.0000   644.5300  \n",
       "sensor_3   1590.1000  1594.3800  1616.9100  \n",
       "sensor_4   1408.0400  1414.5550  1441.4900  \n",
       "sensor_5     14.6200    14.6200    14.6200  \n",
       "sensor_6     21.6100    21.6100    21.6100  \n",
       "sensor_7    553.4400   554.0100   556.0600  \n",
       "sensor_8   2388.0900  2388.1400  2388.5600  \n",
       "sensor_9   9060.6600  9069.4200  9244.5900  \n",
       "sensor_10     1.3000     1.3000     1.3000  \n",
       "sensor_11    47.5100    47.7000    48.5300  \n",
       "sensor_12   521.4800   521.9500   523.3800  \n",
       "sensor_13  2388.0900  2388.1400  2388.5600  \n",
       "sensor_14  8140.5400  8148.3100  8293.7200  \n",
       "sensor_15     8.4389     8.4656     8.5848  \n",
       "sensor_16     0.0300     0.0300     0.0300  \n",
       "sensor_17   393.0000   394.0000   400.0000  \n",
       "sensor_18  2388.0000  2388.0000  2388.0000  \n",
       "sensor_19   100.0000   100.0000   100.0000  \n",
       "sensor_20    38.8300    38.9500    39.4300  \n",
       "sensor_21    23.2979    23.3668    23.6184  \n",
       "RUL         103.0000   155.0000   361.0000  "
      ]
     },
     "execution_count": 8,
     "metadata": {},
     "output_type": "execute_result"
    }
   ],
   "source": [
    "rul_train_1.describe().transpose()"
   ]
  },
  {
   "cell_type": "code",
   "execution_count": 9,
   "metadata": {
    "execution": {
     "iopub.execute_input": "2021-01-08T16:10:03.371070Z",
     "iopub.status.busy": "2021-01-08T16:10:03.370224Z",
     "iopub.status.idle": "2021-01-08T16:10:03.373726Z",
     "shell.execute_reply": "2021-01-08T16:10:03.374152Z"
    },
    "papermill": {
     "duration": 0.048844,
     "end_time": "2021-01-08T16:10:03.374283",
     "exception": false,
     "start_time": "2021-01-08T16:10:03.325439",
     "status": "completed"
    },
    "tags": []
   },
   "outputs": [],
   "source": [
    "#drop columns which has std=0 because they don't carry info about the state of the unit\n",
    "deleted_1=[\"op_set_3\", \"sensor_18\", \"sensor_19\"]\n",
    "\n",
    "rul_train_1.drop(columns=deleted_1, inplace=True)\n",
    "rul_test_1.drop(columns=deleted_1, inplace=True)"
   ]
  },
  {
   "cell_type": "markdown",
   "metadata": {
    "papermill": {
     "duration": 0.034914,
     "end_time": "2021-01-08T16:10:03.444957",
     "exception": false,
     "start_time": "2021-01-08T16:10:03.410043",
     "status": "completed"
    },
    "tags": []
   },
   "source": [
    "Corr Matrix"
   ]
  },
  {
   "cell_type": "code",
   "execution_count": 10,
   "metadata": {
    "execution": {
     "iopub.execute_input": "2021-01-08T16:10:03.529799Z",
     "iopub.status.busy": "2021-01-08T16:10:03.526918Z",
     "iopub.status.idle": "2021-01-08T16:10:06.060623Z",
     "shell.execute_reply": "2021-01-08T16:10:06.061150Z"
    },
    "papermill": {
     "duration": 2.579912,
     "end_time": "2021-01-08T16:10:06.061290",
     "exception": false,
     "start_time": "2021-01-08T16:10:03.481378",
     "status": "completed"
    },
    "tags": []
   },
   "outputs": [
    {
     "data": {
      "image/png": "[encoded data removed]",
      "text/plain": [
       "<Figure size 1728x1152 with 2 Axes>"
      ]
     },
     "metadata": {},
     "output_type": "display_data"
    }
   ],
   "source": [
    "#heatmap for correlation coefficient\n",
    "\n",
    "# calculate correlation\n",
    "df_corr = rul_train_1.drop(columns=[\"engine_id\"]).corr()\n",
    "\n",
    "# correlation matrix\n",
    "sns.set(font_scale=0.8)\n",
    "plt.figure(figsize=(24,16))\n",
    "sns.heatmap(df_corr, annot=True, fmt=\".4f\",vmin=-1, vmax=1, linewidths=.5, cmap = sns.color_palette(\"coolwarm\", 200))\n",
    "\n",
    "plt.figtext(.45, 0.9,'correlation matrix of train_1', fontsize=16, ha='center')\n",
    "plt.xticks(rotation=90)\n",
    "plt.show()\n"
   ]
  },
  {
   "cell_type": "code",
   "execution_count": 11,
   "metadata": {
    "execution": {
     "iopub.execute_input": "2021-01-08T16:10:06.158479Z",
     "iopub.status.busy": "2021-01-08T16:10:06.157508Z",
     "iopub.status.idle": "2021-01-08T16:10:06.160810Z",
     "shell.execute_reply": "2021-01-08T16:10:06.160271Z"
    },
    "papermill": {
     "duration": 0.054622,
     "end_time": "2021-01-08T16:10:06.160910",
     "exception": false,
     "start_time": "2021-01-08T16:10:06.106288",
     "status": "completed"
    },
    "tags": []
   },
   "outputs": [],
   "source": [
    "#corr(RUL&feature )==0 ==> will be deleted since it has no corr between target(RUL) \n",
    "corr_del=[\"sensor_1\", \"sensor_5\", \"sensor_10\", \"sensor_16\"]\n",
    "rul_train_1.drop(columns=corr_del, inplace=True)"
   ]
  },
  {
   "cell_type": "markdown",
   "metadata": {
    "papermill": {
     "duration": 0.041977,
     "end_time": "2021-01-08T16:10:06.246852",
     "exception": false,
     "start_time": "2021-01-08T16:10:06.204875",
     "status": "completed"
    },
    "tags": []
   },
   "source": [
    "# FEATURE SELECTION"
   ]
  },
  {
   "cell_type": "markdown",
   "metadata": {
    "papermill": {
     "duration": 0.043058,
     "end_time": "2021-01-08T16:10:06.333817",
     "exception": false,
     "start_time": "2021-01-08T16:10:06.290759",
     "status": "completed"
    },
    "tags": []
   },
   "source": [
    "1. Random Forest importances:"
   ]
  },
  {
   "cell_type": "code",
   "execution_count": 12,
   "metadata": {
    "execution": {
     "iopub.execute_input": "2021-01-08T16:10:06.432326Z",
     "iopub.status.busy": "2021-01-08T16:10:06.431065Z",
     "iopub.status.idle": "2021-01-08T16:10:36.766043Z",
     "shell.execute_reply": "2021-01-08T16:10:36.766698Z"
    },
    "papermill": {
     "duration": 30.389542,
     "end_time": "2021-01-08T16:10:36.766846",
     "exception": false,
     "start_time": "2021-01-08T16:10:06.377304",
     "status": "completed"
    },
    "tags": []
   },
   "outputs": [
    {
     "data": {
      "text/plain": [
       "<matplotlib.axes._subplots.AxesSubplot at 0x7f2a95503f90>"
      ]
     },
     "execution_count": 12,
     "metadata": {},
     "output_type": "execute_result"
    },
    {
     "data": {
      "image/png": "[encoded data removed]",
      "text/plain": [
       "<Figure size 576x576 with 1 Axes>"
      ]
     },
     "metadata": {},
     "output_type": "display_data"
    }
   ],
   "source": [
    "#X, y splitting\n",
    "X_imp=rul_train_1.drop(columns=[\"RUL\", \"engine_id\", \"cycle\"])\n",
    "y_imp=rul_train_1[\"RUL\"]\n",
    "\n",
    "#feature importances\n",
    "rf_clf = RandomForestClassifier(n_estimators = 500, max_depth=5)\n",
    "rf_clf.fit(X_imp, y_imp)\n",
    "\n",
    "pd.Series(rf_clf.feature_importances_, index = X_imp.columns).nlargest(30).plot(kind = 'pie',\n",
    "                                                                                figsize = (8, 8),\n",
    "                                                                                title = 'Feature importance from RandomForest for train set', colormap='twilight', fontsize=10)"
   ]
  },
  {
   "cell_type": "markdown",
   "metadata": {
    "papermill": {
     "duration": 0.045831,
     "end_time": "2021-01-08T16:10:36.858444",
     "exception": false,
     "start_time": "2021-01-08T16:10:36.812613",
     "status": "completed"
    },
    "tags": []
   },
   "source": [
    "2. w Permutation importance:"
   ]
  },
  {
   "cell_type": "markdown",
   "metadata": {
    "papermill": {
     "duration": 0.044091,
     "end_time": "2021-01-08T16:10:36.947671",
     "exception": false,
     "start_time": "2021-01-08T16:10:36.903580",
     "status": "completed"
    },
    "tags": []
   },
   "source": [
    "- [permutation importances](http://scikit-learn.org/stable/modules/permutation_importance.html#permutation-importance)\n",
    "\n",
    "- This procedure breaks the relationship between the feature and the target, thus the drop in the model score is indicative of how much the model depends on the feature."
   ]
  },
  {
   "cell_type": "code",
   "execution_count": 13,
   "metadata": {
    "execution": {
     "iopub.execute_input": "2021-01-08T16:10:37.049006Z",
     "iopub.status.busy": "2021-01-08T16:10:37.047878Z",
     "iopub.status.idle": "2021-01-08T17:05:58.843989Z",
     "shell.execute_reply": "2021-01-08T17:05:58.843080Z"
    },
    "papermill": {
     "duration": 3321.85207,
     "end_time": "2021-01-08T17:05:58.844151",
     "exception": false,
     "start_time": "2021-01-08T16:10:36.992081",
     "status": "completed"
    },
    "tags": []
   },
   "outputs": [
    {
     "data": {
      "image/png": "[encoded data removed]",
      "text/plain": [
       "<Figure size 432x288 with 1 Axes>"
      ]
     },
     "metadata": {},
     "output_type": "display_data"
    },
    {
     "name": "stdout",
     "output_type": "stream",
     "text": [
      "sensor_8 0.041 +/- 0.001\n",
      "sensor_2 0.034 +/- 0.001\n",
      "sensor_9 0.024 +/- 0.001\n",
      "sensor_4 0.022 +/- 0.001\n",
      "sensor_7 0.020 +/- 0.001\n",
      "sensor_13 0.020 +/- 0.001\n",
      "sensor_17 0.016 +/- 0.001\n",
      "sensor_12 0.016 +/- 0.001\n",
      "sensor_15 0.015 +/- 0.001\n",
      "op_set_1 0.010 +/- 0.001\n",
      "op_set_2 0.009 +/- 0.001\n",
      "sensor_11 0.007 +/- 0.001\n",
      "sensor_14 0.007 +/- 0.001\n",
      "sensor_6 0.006 +/- 0.001\n",
      "engine_id 0.003 +/- 0.000\n",
      "cycle    0.001 +/- 0.000\n",
      "sensor_3 0.000 +/- 0.000\n"
     ]
    }
   ],
   "source": [
    "# permutation importance with RF classifier for deciding to elimination bet. 9&14 since they are highly correlated\n",
    "atts=rul_train_1.columns\n",
    "atts_arr = np.array(atts)\n",
    "result = permutation_importance(rf_clf, X_imp, y_imp, n_repeats=10, random_state=42, n_jobs=-1)\n",
    "sorted_idx = result.importances_mean.argsort()\n",
    "\n",
    "fig, ax = plt.subplots()\n",
    "ax.boxplot(result.importances[sorted_idx].T, vert=False, labels=atts_arr[sorted_idx])\n",
    "ax.set_title(\"Permutation Importances (train set)\")\n",
    "fig.tight_layout()\n",
    "plt.show()\n",
    "\n",
    "for i in result.importances_mean.argsort()[::-1]:\n",
    "     print(f\"{atts_arr[i]:<8} \"\n",
    "           f\"{result.importances_mean[i]:.3f}\"\n",
    "           f\" +/- {result.importances_std[i]:.3f}\")\n"
   ]
  },
  {
   "cell_type": "code",
   "execution_count": 14,
   "metadata": {
    "execution": {
     "iopub.execute_input": "2021-01-08T17:05:58.943529Z",
     "iopub.status.busy": "2021-01-08T17:05:58.942851Z",
     "iopub.status.idle": "2021-01-08T17:05:58.946859Z",
     "shell.execute_reply": "2021-01-08T17:05:58.946353Z"
    },
    "papermill": {
     "duration": 0.056773,
     "end_time": "2021-01-08T17:05:58.946959",
     "exception": false,
     "start_time": "2021-01-08T17:05:58.890186",
     "status": "completed"
    },
    "tags": []
   },
   "outputs": [],
   "source": [
    "#corr matrix results to be deleted 14-9\n",
    "train_1_del=[\"sensor_14\"]\n",
    "train_1.drop(columns=train_1_del, inplace=True)"
   ]
  },
  {
   "cell_type": "code",
   "execution_count": 15,
   "metadata": {
    "execution": {
     "iopub.execute_input": "2021-01-08T17:05:59.048372Z",
     "iopub.status.busy": "2021-01-08T17:05:59.047790Z",
     "iopub.status.idle": "2021-01-08T17:05:59.300018Z",
     "shell.execute_reply": "2021-01-08T17:05:59.298902Z"
    },
    "papermill": {
     "duration": 0.30597,
     "end_time": "2021-01-08T17:05:59.300160",
     "exception": false,
     "start_time": "2021-01-08T17:05:58.994190",
     "status": "completed"
    },
    "tags": []
   },
   "outputs": [
    {
     "data": {
      "image/png": "[encoded data removed]",
      "text/plain": [
       "<Figure size 504x504 with 1 Axes>"
      ]
     },
     "metadata": {},
     "output_type": "display_data"
    }
   ],
   "source": [
    "dd_1=train_1.groupby('engine_id')['cycle'].max().reset_index().sort_values(\"cycle\", ascending=False)\n",
    "\n",
    "dd_1.reset_index(drop=True, inplace=True)\n",
    "train_1_top=dd_1.head(10)\n",
    "\n",
    "plt.figure(figsize=(7,7))\n",
    "sns.barplot(x=\"engine_id\", y=\"cycle\", data=train_1_top, palette=\"rocket\", order=train_1_top['engine_id'])\n",
    "plt.title(\"Train_1-->Top 10 engines\")\n",
    "plt.xticks(rotation=90);"
   ]
  },
  {
   "cell_type": "markdown",
   "metadata": {
    "papermill": {
     "duration": 0.046001,
     "end_time": "2021-01-08T17:05:59.395372",
     "exception": false,
     "start_time": "2021-01-08T17:05:59.349371",
     "status": "completed"
    },
    "tags": []
   },
   "source": [
    "#  NORMALIZATION: MinMax Scaling"
   ]
  },
  {
   "cell_type": "code",
   "execution_count": 16,
   "metadata": {
    "execution": {
     "iopub.execute_input": "2021-01-08T17:05:59.501565Z",
     "iopub.status.busy": "2021-01-08T17:05:59.500490Z",
     "iopub.status.idle": "2021-01-08T17:05:59.518469Z",
     "shell.execute_reply": "2021-01-08T17:05:59.517923Z"
    },
    "papermill": {
     "duration": 0.077632,
     "end_time": "2021-01-08T17:05:59.518577",
     "exception": false,
     "start_time": "2021-01-08T17:05:59.440945",
     "status": "completed"
    },
    "tags": []
   },
   "outputs": [],
   "source": [
    "#train_1 minmax scaling\n",
    "cols_normalize_1 = rul_train_1.columns.difference(['engine_id','cycle'])\n",
    "\n",
    "scaler_1 = MinMaxScaler()\n",
    "norm_rul_train_1 = pd.DataFrame(scaler_1.fit_transform(rul_train_1[cols_normalize_1]), \n",
    "                                columns=cols_normalize_1, \n",
    "                                index=rul_train_1.index)\n",
    "\n",
    "norm_rul_train_1=pd.concat([norm_rul_train_1, rul_train_1[[\"engine_id\", \"cycle\"]]], axis=1)\n",
    "\n",
    "################   ################   ################   ################   ################\n",
    "\n",
    "#test_1 minmax scaling\n",
    "norm_rul_test_1 = pd.DataFrame(scaler_1.transform(rul_test_1[cols_normalize_1]), \n",
    "                                columns=cols_normalize_1, \n",
    "                                index=rul_test_1.index)\n",
    "\n",
    "norm_rul_test_1=pd.concat([norm_rul_test_1, rul_test_1[[\"engine_id\", \"cycle\"]]], axis=1)\n",
    "\n"
   ]
  },
  {
   "cell_type": "code",
   "execution_count": 17,
   "metadata": {
    "execution": {
     "iopub.execute_input": "2021-01-08T17:05:59.620000Z",
     "iopub.status.busy": "2021-01-08T17:05:59.619149Z",
     "iopub.status.idle": "2021-01-08T17:05:59.667345Z",
     "shell.execute_reply": "2021-01-08T17:05:59.667810Z"
    },
    "papermill": {
     "duration": 0.103236,
     "end_time": "2021-01-08T17:05:59.667946",
     "exception": false,
     "start_time": "2021-01-08T17:05:59.564710",
     "status": "completed"
    },
    "tags": []
   },
   "outputs": [],
   "source": [
    "#split engines for set_1\n",
    "g_1=norm_rul_train_1.groupby('engine_id')\n",
    "g_test1=norm_rul_test_1.groupby('engine_id')\n",
    "\n",
    "#list of dfs(engines)\n",
    "train_list = []\n",
    "test_list = []  \n",
    "\n",
    "for engineid in g_1.groups.keys():\n",
    "    train_list.append(g_1.get_group(engineid)) \n",
    "\n",
    "for engineid in g_test1.groups.keys():\n",
    "    test_list.append(g_test1.get_group(engineid))"
   ]
  },
  {
   "cell_type": "code",
   "execution_count": 18,
   "metadata": {
    "execution": {
     "iopub.execute_input": "2021-01-08T17:05:59.764759Z",
     "iopub.status.busy": "2021-01-08T17:05:59.763879Z",
     "iopub.status.idle": "2021-01-08T17:05:59.767324Z",
     "shell.execute_reply": "2021-01-08T17:05:59.767877Z"
    },
    "papermill": {
     "duration": 0.054726,
     "end_time": "2021-01-08T17:05:59.768012",
     "exception": false,
     "start_time": "2021-01-08T17:05:59.713286",
     "status": "completed"
    },
    "tags": []
   },
   "outputs": [
    {
     "data": {
      "text/plain": [
       "100"
      ]
     },
     "execution_count": 18,
     "metadata": {},
     "output_type": "execute_result"
    }
   ],
   "source": [
    "len(train_list)"
   ]
  },
  {
   "cell_type": "code",
   "execution_count": 19,
   "metadata": {
    "execution": {
     "iopub.execute_input": "2021-01-08T17:05:59.867778Z",
     "iopub.status.busy": "2021-01-08T17:05:59.867135Z",
     "iopub.status.idle": "2021-01-08T17:05:59.872644Z",
     "shell.execute_reply": "2021-01-08T17:05:59.873113Z"
    },
    "papermill": {
     "duration": 0.057305,
     "end_time": "2021-01-08T17:05:59.873258",
     "exception": false,
     "start_time": "2021-01-08T17:05:59.815953",
     "status": "completed"
    },
    "tags": []
   },
   "outputs": [
    {
     "data": {
      "text/plain": [
       "100"
      ]
     },
     "execution_count": 19,
     "metadata": {},
     "output_type": "execute_result"
    }
   ],
   "source": [
    "len(test_list)"
   ]
  },
  {
   "cell_type": "code",
   "execution_count": 20,
   "metadata": {
    "execution": {
     "iopub.execute_input": "2021-01-08T17:05:59.982333Z",
     "iopub.status.busy": "2021-01-08T17:05:59.981392Z",
     "iopub.status.idle": "2021-01-08T17:06:00.140723Z",
     "shell.execute_reply": "2021-01-08T17:06:00.140153Z"
    },
    "papermill": {
     "duration": 0.220193,
     "end_time": "2021-01-08T17:06:00.140829",
     "exception": false,
     "start_time": "2021-01-08T17:05:59.920636",
     "status": "completed"
    },
    "tags": []
   },
   "outputs": [],
   "source": [
    "#generating sequences for each engine --> multivariate one step problem\n",
    "from numpy import array\n",
    "\n",
    "#df: df extracted from train_list, n_steps: window size\n",
    "def split_sequences(df, n_steps):\n",
    "    X, y = list(), list()\n",
    "    for i in range(len(df)):\n",
    "        end_ix = i + n_steps\n",
    "        if end_ix > len(df):\n",
    "            break\n",
    "        seq_x, seq_y = df[i:end_ix, 1:], df[end_ix-1, 0]\n",
    "        X.append(seq_x)\n",
    "        y.append(seq_y)\n",
    "    return array(X), array(y)\n",
    "\n",
    "\n",
    "list_x=[]\n",
    "list_y=[]\n",
    "for engine_df in train_list:\n",
    "    #convert df to arr \n",
    "    engine_arr=engine_df.drop(columns=[\"engine_id\", \"cycle\"]).to_numpy()\n",
    "    X, y = split_sequences(engine_arr, 21)#since smallest df has 21 rows\n",
    "    list_x.append(X)\n",
    "    list_y.append(y)\n",
    "\n",
    "#concat alt alta  \n",
    "X_arr=np.concatenate(list_x)\n",
    "y_arr=np.concatenate(list_y)"
   ]
  },
  {
   "cell_type": "code",
   "execution_count": 21,
   "metadata": {
    "execution": {
     "iopub.execute_input": "2021-01-08T17:06:00.246580Z",
     "iopub.status.busy": "2021-01-08T17:06:00.245297Z",
     "iopub.status.idle": "2021-01-08T17:06:00.249173Z",
     "shell.execute_reply": "2021-01-08T17:06:00.249662Z"
    },
    "papermill": {
     "duration": 0.059887,
     "end_time": "2021-01-08T17:06:00.249788",
     "exception": false,
     "start_time": "2021-01-08T17:06:00.189901",
     "status": "completed"
    },
    "tags": []
   },
   "outputs": [
    {
     "data": {
      "text/plain": [
       "(200, 18)"
      ]
     },
     "execution_count": 21,
     "metadata": {},
     "output_type": "execute_result"
    }
   ],
   "source": [
    "engine_arr.shape #input of split_seq function"
   ]
  },
  {
   "cell_type": "code",
   "execution_count": 22,
   "metadata": {
    "execution": {
     "iopub.execute_input": "2021-01-08T17:06:00.367312Z",
     "iopub.status.busy": "2021-01-08T17:06:00.366506Z",
     "iopub.status.idle": "2021-01-08T17:06:00.370444Z",
     "shell.execute_reply": "2021-01-08T17:06:00.369898Z"
    },
    "papermill": {
     "duration": 0.06586,
     "end_time": "2021-01-08T17:06:00.370542",
     "exception": false,
     "start_time": "2021-01-08T17:06:00.304682",
     "status": "completed"
    },
    "tags": []
   },
   "outputs": [
    {
     "data": {
      "text/plain": [
       "(180, 21, 17)"
      ]
     },
     "execution_count": 22,
     "metadata": {},
     "output_type": "execute_result"
    }
   ],
   "source": [
    "X.shape #output of split_seq function"
   ]
  },
  {
   "cell_type": "code",
   "execution_count": 23,
   "metadata": {
    "execution": {
     "iopub.execute_input": "2021-01-08T17:06:00.475389Z",
     "iopub.status.busy": "2021-01-08T17:06:00.474569Z",
     "iopub.status.idle": "2021-01-08T17:06:00.478485Z",
     "shell.execute_reply": "2021-01-08T17:06:00.477972Z"
    },
    "papermill": {
     "duration": 0.059683,
     "end_time": "2021-01-08T17:06:00.478583",
     "exception": false,
     "start_time": "2021-01-08T17:06:00.418900",
     "status": "completed"
    },
    "tags": []
   },
   "outputs": [
    {
     "data": {
      "text/plain": [
       "(180,)"
      ]
     },
     "execution_count": 23,
     "metadata": {},
     "output_type": "execute_result"
    }
   ],
   "source": [
    "y.shape #output of split_seq function"
   ]
  },
  {
   "cell_type": "code",
   "execution_count": 24,
   "metadata": {
    "execution": {
     "iopub.execute_input": "2021-01-08T17:06:00.583365Z",
     "iopub.status.busy": "2021-01-08T17:06:00.582468Z",
     "iopub.status.idle": "2021-01-08T17:06:00.586759Z",
     "shell.execute_reply": "2021-01-08T17:06:00.586208Z"
    },
    "papermill": {
     "duration": 0.05865,
     "end_time": "2021-01-08T17:06:00.586873",
     "exception": false,
     "start_time": "2021-01-08T17:06:00.528223",
     "status": "completed"
    },
    "tags": []
   },
   "outputs": [
    {
     "data": {
      "text/plain": [
       "(18631, 21, 17)"
      ]
     },
     "execution_count": 24,
     "metadata": {},
     "output_type": "execute_result"
    }
   ],
   "source": [
    "X_arr.shape #concat all engines"
   ]
  },
  {
   "cell_type": "code",
   "execution_count": 25,
   "metadata": {
    "execution": {
     "iopub.execute_input": "2021-01-08T17:06:00.694496Z",
     "iopub.status.busy": "2021-01-08T17:06:00.693712Z",
     "iopub.status.idle": "2021-01-08T17:06:00.696818Z",
     "shell.execute_reply": "2021-01-08T17:06:00.697383Z"
    },
    "papermill": {
     "duration": 0.058018,
     "end_time": "2021-01-08T17:06:00.697522",
     "exception": false,
     "start_time": "2021-01-08T17:06:00.639504",
     "status": "completed"
    },
    "tags": []
   },
   "outputs": [
    {
     "data": {
      "text/plain": [
       "(18631,)"
      ]
     },
     "execution_count": 25,
     "metadata": {},
     "output_type": "execute_result"
    }
   ],
   "source": [
    "y_arr.shape"
   ]
  },
  {
   "cell_type": "markdown",
   "metadata": {
    "papermill": {
     "duration": 0.049799,
     "end_time": "2021-01-08T17:06:00.797616",
     "exception": false,
     "start_time": "2021-01-08T17:06:00.747817",
     "status": "completed"
    },
    "tags": []
   },
   "source": [
    "# Define LSTM Model"
   ]
  },
  {
   "cell_type": "code",
   "execution_count": 26,
   "metadata": {
    "execution": {
     "iopub.execute_input": "2021-01-08T17:06:00.910716Z",
     "iopub.status.busy": "2021-01-08T17:06:00.910039Z",
     "iopub.status.idle": "2021-01-08T17:21:02.976355Z",
     "shell.execute_reply": "2021-01-08T17:21:02.975804Z"
    },
    "papermill": {
     "duration": 902.127732,
     "end_time": "2021-01-08T17:21:02.976516",
     "exception": false,
     "start_time": "2021-01-08T17:06:00.848784",
     "status": "completed"
    },
    "tags": []
   },
   "outputs": [
    {
     "name": "stdout",
     "output_type": "stream",
     "text": [
      "Epoch 1/200\n",
      "583/583 [==============================] - 4s 7ms/step - loss: 0.0160\n",
      "Epoch 2/200\n",
      "583/583 [==============================] - 4s 7ms/step - loss: 0.0123\n",
      "Epoch 3/200\n",
      "583/583 [==============================] - 4s 7ms/step - loss: 0.0110\n",
      "Epoch 4/200\n",
      "583/583 [==============================] - 4s 8ms/step - loss: 0.0106\n",
      "Epoch 5/200\n",
      "583/583 [==============================] - 4s 7ms/step - loss: 0.0103\n",
      "Epoch 6/200\n",
      "583/583 [==============================] - 5s 9ms/step - loss: 0.0102\n",
      "Epoch 7/200\n",
      "583/583 [==============================] - 5s 8ms/step - loss: 0.0101\n",
      "Epoch 8/200\n",
      "583/583 [==============================] - 4s 7ms/step - loss: 0.0098\n",
      "Epoch 9/200\n",
      "583/583 [==============================] - 4s 7ms/step - loss: 0.0097\n",
      "Epoch 10/200\n",
      "583/583 [==============================] - 4s 7ms/step - loss: 0.0095\n",
      "Epoch 11/200\n",
      "583/583 [==============================] - 4s 7ms/step - loss: 0.0094\n",
      "Epoch 12/200\n",
      "583/583 [==============================] - 5s 8ms/step - loss: 0.0093\n",
      "Epoch 13/200\n",
      "583/583 [==============================] - 4s 8ms/step - loss: 0.0092\n",
      "Epoch 14/200\n",
      "583/583 [==============================] - 5s 8ms/step - loss: 0.0092\n",
      "Epoch 15/200\n",
      "583/583 [==============================] - 4s 7ms/step - loss: 0.0091\n",
      "Epoch 16/200\n",
      "583/583 [==============================] - 4s 7ms/step - loss: 0.0089\n",
      "Epoch 17/200\n",
      "583/583 [==============================] - 4s 8ms/step - loss: 0.0089\n",
      "Epoch 18/200\n",
      "583/583 [==============================] - 4s 7ms/step - loss: 0.0090\n",
      "Epoch 19/200\n",
      "583/583 [==============================] - 5s 9ms/step - loss: 0.0089\n",
      "Epoch 20/200\n",
      "583/583 [==============================] - 5s 8ms/step - loss: 0.0087\n",
      "Epoch 21/200\n",
      "583/583 [==============================] - 5s 8ms/step - loss: 0.0086\n",
      "Epoch 22/200\n",
      "583/583 [==============================] - 4s 8ms/step - loss: 0.0086\n",
      "Epoch 23/200\n",
      "583/583 [==============================] - 4s 7ms/step - loss: 0.0087\n",
      "Epoch 24/200\n",
      "583/583 [==============================] - 5s 8ms/step - loss: 0.0084\n",
      "Epoch 25/200\n",
      "583/583 [==============================] - 4s 7ms/step - loss: 0.0084\n",
      "Epoch 26/200\n",
      "583/583 [==============================] - 5s 8ms/step - loss: 0.0083\n",
      "Epoch 27/200\n",
      "583/583 [==============================] - 4s 7ms/step - loss: 0.0082\n",
      "Epoch 28/200\n",
      "583/583 [==============================] - 4s 8ms/step - loss: 0.0081\n",
      "Epoch 29/200\n",
      "583/583 [==============================] - 5s 8ms/step - loss: 0.0081\n",
      "Epoch 30/200\n",
      "583/583 [==============================] - 4s 7ms/step - loss: 0.0081\n",
      "Epoch 31/200\n",
      "583/583 [==============================] - 4s 7ms/step - loss: 0.0079\n",
      "Epoch 32/200\n",
      "583/583 [==============================] - 4s 7ms/step - loss: 0.0079\n",
      "Epoch 33/200\n",
      "583/583 [==============================] - 5s 9ms/step - loss: 0.0077\n",
      "Epoch 34/200\n",
      "583/583 [==============================] - 5s 8ms/step - loss: 0.0075\n",
      "Epoch 35/200\n",
      "583/583 [==============================] - 4s 7ms/step - loss: 0.0073\n",
      "Epoch 36/200\n",
      "583/583 [==============================] - 4s 7ms/step - loss: 0.0072\n",
      "Epoch 37/200\n",
      "583/583 [==============================] - 4s 7ms/step - loss: 0.0073\n",
      "Epoch 38/200\n",
      "583/583 [==============================] - 4s 7ms/step - loss: 0.0070\n",
      "Epoch 39/200\n",
      "583/583 [==============================] - 4s 7ms/step - loss: 0.0068\n",
      "Epoch 40/200\n",
      "583/583 [==============================] - 4s 7ms/step - loss: 0.0067\n",
      "Epoch 41/200\n",
      "583/583 [==============================] - 4s 8ms/step - loss: 0.0066\n",
      "Epoch 42/200\n",
      "583/583 [==============================] - 4s 7ms/step - loss: 0.0065\n",
      "Epoch 43/200\n",
      "583/583 [==============================] - 4s 8ms/step - loss: 0.0062\n",
      "Epoch 44/200\n",
      "583/583 [==============================] - 4s 7ms/step - loss: 0.0063\n",
      "Epoch 45/200\n",
      "583/583 [==============================] - 4s 7ms/step - loss: 0.0059\n",
      "Epoch 46/200\n",
      "583/583 [==============================] - 5s 8ms/step - loss: 0.0061\n",
      "Epoch 47/200\n",
      "583/583 [==============================] - 5s 8ms/step - loss: 0.0058\n",
      "Epoch 48/200\n",
      "583/583 [==============================] - 5s 9ms/step - loss: 0.0059\n",
      "Epoch 49/200\n",
      "583/583 [==============================] - 4s 8ms/step - loss: 0.0054\n",
      "Epoch 50/200\n",
      "583/583 [==============================] - 4s 7ms/step - loss: 0.0052\n",
      "Epoch 51/200\n",
      "583/583 [==============================] - 4s 7ms/step - loss: 0.0051\n",
      "Epoch 52/200\n",
      "583/583 [==============================] - 4s 7ms/step - loss: 0.0050\n",
      "Epoch 53/200\n",
      "583/583 [==============================] - 4s 7ms/step - loss: 0.0048\n",
      "Epoch 54/200\n",
      "583/583 [==============================] - 4s 7ms/step - loss: 0.0047\n",
      "Epoch 55/200\n",
      "583/583 [==============================] - 5s 8ms/step - loss: 0.0046\n",
      "Epoch 56/200\n",
      "583/583 [==============================] - 4s 7ms/step - loss: 0.0046\n",
      "Epoch 57/200\n",
      "583/583 [==============================] - 4s 7ms/step - loss: 0.0042\n",
      "Epoch 58/200\n",
      "583/583 [==============================] - 4s 8ms/step - loss: 0.0042\n",
      "Epoch 59/200\n",
      "583/583 [==============================] - 4s 8ms/step - loss: 0.0042\n",
      "Epoch 60/200\n",
      "583/583 [==============================] - 5s 8ms/step - loss: 0.0041\n",
      "Epoch 61/200\n",
      "583/583 [==============================] - 4s 7ms/step - loss: 0.0038\n",
      "Epoch 62/200\n",
      "583/583 [==============================] - 5s 8ms/step - loss: 0.0037\n",
      "Epoch 63/200\n",
      "583/583 [==============================] - 5s 9ms/step - loss: 0.0036\n",
      "Epoch 64/200\n",
      "583/583 [==============================] - 4s 7ms/step - loss: 0.0034\n",
      "Epoch 65/200\n",
      "583/583 [==============================] - 4s 7ms/step - loss: 0.0033\n",
      "Epoch 66/200\n",
      "583/583 [==============================] - 4s 8ms/step - loss: 0.0032\n",
      "Epoch 67/200\n",
      "583/583 [==============================] - 4s 7ms/step - loss: 0.0031\n",
      "Epoch 68/200\n",
      "583/583 [==============================] - 4s 7ms/step - loss: 0.0032\n",
      "Epoch 69/200\n",
      "583/583 [==============================] - 4s 7ms/step - loss: 0.0030\n",
      "Epoch 70/200\n",
      "583/583 [==============================] - 5s 8ms/step - loss: 0.0027\n",
      "Epoch 71/200\n",
      "583/583 [==============================] - 4s 8ms/step - loss: 0.0026\n",
      "Epoch 72/200\n",
      "583/583 [==============================] - 4s 8ms/step - loss: 0.0026\n",
      "Epoch 73/200\n",
      "583/583 [==============================] - 5s 8ms/step - loss: 0.0025\n",
      "Epoch 74/200\n",
      "583/583 [==============================] - 5s 8ms/step - loss: 0.0024\n",
      "Epoch 75/200\n",
      "583/583 [==============================] - 4s 7ms/step - loss: 0.0023\n",
      "Epoch 76/200\n",
      "583/583 [==============================] - 4s 7ms/step - loss: 0.0023\n",
      "Epoch 77/200\n",
      "583/583 [==============================] - 5s 8ms/step - loss: 0.0024\n",
      "Epoch 78/200\n",
      "583/583 [==============================] - 5s 9ms/step - loss: 0.0021\n",
      "Epoch 79/200\n",
      "583/583 [==============================] - 4s 7ms/step - loss: 0.0021\n",
      "Epoch 80/200\n",
      "583/583 [==============================] - 4s 7ms/step - loss: 0.0020\n",
      "Epoch 81/200\n",
      "583/583 [==============================] - 4s 7ms/step - loss: 0.0021\n",
      "Epoch 82/200\n",
      "583/583 [==============================] - 4s 7ms/step - loss: 0.0020\n",
      "Epoch 83/200\n",
      "583/583 [==============================] - 4s 7ms/step - loss: 0.0018\n",
      "Epoch 84/200\n",
      "583/583 [==============================] - 4s 7ms/step - loss: 0.0019\n",
      "Epoch 85/200\n",
      "583/583 [==============================] - 4s 8ms/step - loss: 0.0020\n",
      "Epoch 86/200\n",
      "583/583 [==============================] - 5s 9ms/step - loss: 0.0019\n",
      "Epoch 87/200\n",
      "583/583 [==============================] - 5s 8ms/step - loss: 0.0017\n",
      "Epoch 88/200\n",
      "583/583 [==============================] - 5s 8ms/step - loss: 0.0016\n",
      "Epoch 89/200\n",
      "583/583 [==============================] - 4s 7ms/step - loss: 0.0016\n",
      "Epoch 90/200\n",
      "583/583 [==============================] - 4s 7ms/step - loss: 0.0016\n",
      "Epoch 91/200\n",
      "583/583 [==============================] - 4s 7ms/step - loss: 0.0017\n",
      "Epoch 92/200\n",
      "583/583 [==============================] - 4s 7ms/step - loss: 0.0017\n",
      "Epoch 93/200\n",
      "583/583 [==============================] - 5s 8ms/step - loss: 0.0015\n",
      "Epoch 94/200\n",
      "583/583 [==============================] - 5s 8ms/step - loss: 0.0015\n",
      "Epoch 95/200\n",
      "583/583 [==============================] - 4s 7ms/step - loss: 0.0015\n",
      "Epoch 96/200\n",
      "583/583 [==============================] - 4s 8ms/step - loss: 0.0014\n",
      "Epoch 97/200\n",
      "583/583 [==============================] - 4s 7ms/step - loss: 0.0015\n",
      "Epoch 98/200\n",
      "583/583 [==============================] - 4s 7ms/step - loss: 0.0014\n",
      "Epoch 99/200\n",
      "583/583 [==============================] - 4s 8ms/step - loss: 0.0015\n",
      "Epoch 100/200\n",
      "583/583 [==============================] - 4s 8ms/step - loss: 0.0014\n",
      "Epoch 101/200\n",
      "583/583 [==============================] - 6s 11ms/step - loss: 0.0016\n",
      "Epoch 102/200\n",
      "583/583 [==============================] - 5s 8ms/step - loss: 0.0015\n",
      "Epoch 103/200\n",
      "583/583 [==============================] - 4s 8ms/step - loss: 0.0013\n",
      "Epoch 104/200\n",
      "583/583 [==============================] - 4s 7ms/step - loss: 0.0013\n",
      "Epoch 105/200\n",
      "583/583 [==============================] - 4s 7ms/step - loss: 0.0013\n",
      "Epoch 106/200\n",
      "583/583 [==============================] - 4s 7ms/step - loss: 0.0013\n",
      "Epoch 107/200\n",
      "583/583 [==============================] - 4s 7ms/step - loss: 0.0017\n",
      "Epoch 108/200\n",
      "583/583 [==============================] - 4s 7ms/step - loss: 0.0014\n",
      "Epoch 109/200\n",
      "583/583 [==============================] - 5s 9ms/step - loss: 0.0012\n",
      "Epoch 110/200\n",
      "583/583 [==============================] - 5s 9ms/step - loss: 0.0012\n",
      "Epoch 111/200\n",
      "583/583 [==============================] - 4s 8ms/step - loss: 0.0012\n",
      "Epoch 112/200\n",
      "583/583 [==============================] - 4s 7ms/step - loss: 0.0012\n",
      "Epoch 113/200\n",
      "583/583 [==============================] - 4s 7ms/step - loss: 0.0014\n",
      "Epoch 114/200\n",
      "583/583 [==============================] - 5s 8ms/step - loss: 0.0012\n",
      "Epoch 115/200\n",
      "583/583 [==============================] - 5s 8ms/step - loss: 0.0012\n",
      "Epoch 116/200\n",
      "583/583 [==============================] - 4s 8ms/step - loss: 0.0017\n",
      "Epoch 117/200\n",
      "583/583 [==============================] - 6s 10ms/step - loss: 0.0012\n",
      "Epoch 118/200\n",
      "583/583 [==============================] - 5s 8ms/step - loss: 0.0012\n",
      "Epoch 119/200\n",
      "583/583 [==============================] - 4s 7ms/step - loss: 0.0012\n",
      "Epoch 120/200\n",
      "583/583 [==============================] - 4s 7ms/step - loss: 0.0012\n",
      "Epoch 121/200\n",
      "583/583 [==============================] - 4s 8ms/step - loss: 0.0012\n",
      "Epoch 122/200\n",
      "583/583 [==============================] - 4s 7ms/step - loss: 0.0012\n",
      "Epoch 123/200\n",
      "583/583 [==============================] - 4s 7ms/step - loss: 0.0012\n",
      "Epoch 124/200\n",
      "583/583 [==============================] - 4s 7ms/step - loss: 0.0012\n",
      "Epoch 125/200\n",
      "583/583 [==============================] - 5s 9ms/step - loss: 0.0013\n",
      "Epoch 126/200\n",
      "583/583 [==============================] - 5s 9ms/step - loss: 0.0011\n",
      "Epoch 127/200\n",
      "583/583 [==============================] - 5s 8ms/step - loss: 0.0011\n",
      "Epoch 128/200\n",
      "583/583 [==============================] - 4s 8ms/step - loss: 0.0012\n",
      "Epoch 129/200\n",
      "583/583 [==============================] - 4s 7ms/step - loss: 0.0018\n",
      "Epoch 130/200\n",
      "583/583 [==============================] - 4s 7ms/step - loss: 0.0011\n",
      "Epoch 131/200\n",
      "583/583 [==============================] - 4s 7ms/step - loss: 0.0011\n",
      "Epoch 132/200\n",
      "583/583 [==============================] - 4s 8ms/step - loss: 0.0010\n",
      "Epoch 133/200\n",
      "583/583 [==============================] - 5s 8ms/step - loss: 0.0011\n",
      "Epoch 134/200\n",
      "583/583 [==============================] - 5s 9ms/step - loss: 0.0011\n",
      "Epoch 135/200\n",
      "583/583 [==============================] - 4s 7ms/step - loss: 0.0011\n",
      "Epoch 136/200\n",
      "583/583 [==============================] - 4s 7ms/step - loss: 0.0012\n",
      "Epoch 137/200\n",
      "583/583 [==============================] - 4s 7ms/step - loss: 0.0011\n",
      "Epoch 138/200\n",
      "583/583 [==============================] - 4s 7ms/step - loss: 0.0011\n",
      "Epoch 139/200\n",
      "583/583 [==============================] - 4s 8ms/step - loss: 0.0011\n",
      "Epoch 140/200\n",
      "583/583 [==============================] - 5s 8ms/step - loss: 0.0011\n",
      "Epoch 141/200\n",
      "583/583 [==============================] - 5s 8ms/step - loss: 0.0010\n",
      "Epoch 142/200\n",
      "583/583 [==============================] - 6s 10ms/step - loss: 0.0016\n",
      "Epoch 143/200\n",
      "583/583 [==============================] - 4s 8ms/step - loss: 0.0011\n",
      "Epoch 144/200\n",
      "583/583 [==============================] - 4s 7ms/step - loss: 0.0010\n",
      "Epoch 145/200\n",
      "583/583 [==============================] - 4s 7ms/step - loss: 0.0010\n",
      "Epoch 146/200\n",
      "583/583 [==============================] - 4s 7ms/step - loss: 0.0011\n",
      "Epoch 147/200\n",
      "583/583 [==============================] - 4s 8ms/step - loss: 0.0011\n",
      "Epoch 148/200\n",
      "583/583 [==============================] - 4s 7ms/step - loss: 0.0010\n",
      "Epoch 149/200\n",
      "583/583 [==============================] - 4s 7ms/step - loss: 0.0011\n",
      "Epoch 150/200\n",
      "583/583 [==============================] - 4s 7ms/step - loss: 0.0011\n",
      "Epoch 151/200\n",
      "583/583 [==============================] - 4s 7ms/step - loss: 0.0010\n",
      "Epoch 152/200\n",
      "583/583 [==============================] - 4s 7ms/step - loss: 0.0011\n",
      "Epoch 153/200\n",
      "583/583 [==============================] - 4s 7ms/step - loss: 0.0010\n",
      "Epoch 154/200\n",
      "583/583 [==============================] - 5s 9ms/step - loss: 0.0011\n",
      "Epoch 155/200\n",
      "583/583 [==============================] - 5s 8ms/step - loss: 0.0016\n",
      "Epoch 156/200\n",
      "583/583 [==============================] - 4s 7ms/step - loss: 0.0010\n",
      "Epoch 157/200\n",
      "583/583 [==============================] - 5s 9ms/step - loss: 9.9672e-04\n",
      "Epoch 158/200\n",
      "583/583 [==============================] - 6s 10ms/step - loss: 9.9139e-04\n",
      "Epoch 159/200\n",
      "583/583 [==============================] - 4s 7ms/step - loss: 0.0010\n",
      "Epoch 160/200\n",
      "583/583 [==============================] - 4s 8ms/step - loss: 0.0010\n",
      "Epoch 161/200\n",
      "583/583 [==============================] - 4s 8ms/step - loss: 0.0014\n",
      "Epoch 162/200\n",
      "583/583 [==============================] - 5s 8ms/step - loss: 0.0010\n",
      "Epoch 163/200\n",
      "583/583 [==============================] - 4s 7ms/step - loss: 0.0010\n",
      "Epoch 164/200\n",
      "583/583 [==============================] - 4s 7ms/step - loss: 0.0010\n",
      "Epoch 165/200\n",
      "583/583 [==============================] - 4s 7ms/step - loss: 9.9388e-04\n",
      "Epoch 166/200\n",
      "583/583 [==============================] - 4s 7ms/step - loss: 0.0010\n",
      "Epoch 167/200\n",
      "583/583 [==============================] - 4s 8ms/step - loss: 0.0011\n",
      "Epoch 168/200\n",
      "583/583 [==============================] - 5s 9ms/step - loss: 0.0011\n",
      "Epoch 169/200\n",
      "583/583 [==============================] - 5s 9ms/step - loss: 0.0010\n",
      "Epoch 170/200\n",
      "583/583 [==============================] - 5s 9ms/step - loss: 9.9259e-04\n",
      "Epoch 171/200\n",
      "583/583 [==============================] - 4s 7ms/step - loss: 0.0010\n",
      "Epoch 172/200\n",
      "583/583 [==============================] - 5s 9ms/step - loss: 0.0010\n",
      "Epoch 173/200\n",
      "583/583 [==============================] - 6s 9ms/step - loss: 0.0012\n",
      "Epoch 174/200\n",
      "583/583 [==============================] - 4s 8ms/step - loss: 0.0010\n",
      "Epoch 175/200\n",
      "583/583 [==============================] - 4s 7ms/step - loss: 0.0014\n",
      "Epoch 176/200\n",
      "583/583 [==============================] - 4s 8ms/step - loss: 9.7063e-04\n",
      "Epoch 177/200\n",
      "583/583 [==============================] - 4s 8ms/step - loss: 0.0010\n",
      "Epoch 178/200\n",
      "583/583 [==============================] - 4s 7ms/step - loss: 0.0012\n",
      "Epoch 179/200\n",
      "583/583 [==============================] - 4s 7ms/step - loss: 0.0011\n",
      "Epoch 180/200\n",
      "583/583 [==============================] - 4s 8ms/step - loss: 9.6718e-04\n",
      "Epoch 181/200\n",
      "583/583 [==============================] - 4s 8ms/step - loss: 9.6387e-04\n",
      "Epoch 182/200\n",
      "583/583 [==============================] - 5s 8ms/step - loss: 9.9242e-04\n",
      "Epoch 183/200\n",
      "583/583 [==============================] - 5s 8ms/step - loss: 0.0010\n",
      "Epoch 184/200\n",
      "583/583 [==============================] - 4s 7ms/step - loss: 0.0010\n",
      "Epoch 185/200\n",
      "583/583 [==============================] - 4s 7ms/step - loss: 0.0012\n",
      "Epoch 186/200\n",
      "583/583 [==============================] - 4s 7ms/step - loss: 0.0010\n",
      "Epoch 187/200\n",
      "583/583 [==============================] - 5s 8ms/step - loss: 9.7607e-04\n",
      "Epoch 188/200\n",
      "583/583 [==============================] - 5s 9ms/step - loss: 9.5747e-04\n",
      "Epoch 189/200\n",
      "583/583 [==============================] - 5s 9ms/step - loss: 9.8810e-04\n",
      "Epoch 190/200\n",
      "583/583 [==============================] - 4s 7ms/step - loss: 9.4253e-04\n",
      "Epoch 191/200\n",
      "583/583 [==============================] - 5s 8ms/step - loss: 0.0010\n",
      "Epoch 192/200\n",
      "583/583 [==============================] - 4s 7ms/step - loss: 0.0010\n",
      "Epoch 193/200\n",
      "583/583 [==============================] - 4s 7ms/step - loss: 9.4640e-04\n",
      "Epoch 194/200\n",
      "583/583 [==============================] - 5s 8ms/step - loss: 9.9614e-04\n",
      "Epoch 195/200\n",
      "583/583 [==============================] - 4s 7ms/step - loss: 0.0010\n",
      "Epoch 196/200\n",
      "583/583 [==============================] - 4s 7ms/step - loss: 0.0010\n",
      "Epoch 197/200\n",
      "583/583 [==============================] - 4s 8ms/step - loss: 9.3693e-04\n",
      "Epoch 198/200\n",
      "583/583 [==============================] - 4s 8ms/step - loss: 9.7389e-04\n",
      "Epoch 199/200\n",
      "583/583 [==============================] - 4s 7ms/step - loss: 0.0010\n",
      "Epoch 200/200\n",
      "583/583 [==============================] - 4s 7ms/step - loss: 0.0014\n"
     ]
    },
    {
     "data": {
      "text/plain": [
       "200"
      ]
     },
     "execution_count": 26,
     "metadata": {},
     "output_type": "execute_result"
    }
   ],
   "source": [
    "seq_len=X_arr.shape[1]\n",
    "num_features=X_arr.shape[2]\n",
    "\n",
    "model = Sequential()\n",
    "model.add(LSTM(input_shape=(seq_len, num_features), units=100, return_sequences=True))\n",
    "model.add(Dropout(0.2))\n",
    "\n",
    "model.add(LSTM(units=50, return_sequences=True))\n",
    "model.add(Dropout(0.2))\n",
    "\n",
    "model.add(LSTM(units=10, return_sequences=False))\n",
    "model.add(Dropout(0.2))\n",
    "\n",
    "model.add(Dense(units=1))\n",
    "model.compile(optimizer='adam', loss='mse')\n",
    "\n",
    "#This callback will stop the training when there is no improvement in the validation loss for 20 consecutive epochs. \n",
    "#regularization technique as preventing overfitting, model runtime gets shorter\n",
    "callback = tf.keras.callbacks.EarlyStopping(monitor='loss', patience=20)\n",
    "\n",
    "# fit model\n",
    "history=model.fit(X_arr, y_arr, epochs=200, callbacks=[callback])\n",
    "len(history.history['loss']) \n"
   ]
  },
  {
   "cell_type": "markdown",
   "metadata": {
    "papermill": {
     "duration": 5.976094,
     "end_time": "2021-01-08T17:21:15.147436",
     "exception": false,
     "start_time": "2021-01-08T17:21:09.171342",
     "status": "completed"
    },
    "tags": []
   },
   "source": [
    "# PREDICTION"
   ]
  },
  {
   "cell_type": "code",
   "execution_count": 27,
   "metadata": {
    "execution": {
     "iopub.execute_input": "2021-01-08T17:21:27.715320Z",
     "iopub.status.busy": "2021-01-08T17:21:27.714342Z",
     "iopub.status.idle": "2021-01-08T17:21:27.820613Z",
     "shell.execute_reply": "2021-01-08T17:21:27.819857Z"
    },
    "papermill": {
     "duration": 6.445617,
     "end_time": "2021-01-08T17:21:27.820729",
     "exception": false,
     "start_time": "2021-01-08T17:21:21.375112",
     "status": "completed"
    },
    "tags": []
   },
   "outputs": [],
   "source": [
    "#prepare test set to make predictions\n",
    "list_x_test=[]\n",
    "list_y_test=[]\n",
    "\n",
    "for engine_df in test_list:\n",
    "    #convert df to arr \n",
    "    engine_arr=engine_df.drop(columns=[\"engine_id\", \"cycle\"]).to_numpy()\n",
    "    X, y = split_sequences(engine_arr, seq_len)\n",
    "    \n",
    "    #use only last seq for each engine\n",
    "    list_x_test.append(X[-1].reshape((1, seq_len, num_features)))\n",
    "    list_y_test.append(y[-1].reshape((1, )))\n",
    "\n",
    "#concat alt alta  \n",
    "X_arr_test=np.concatenate(list_x_test)\n",
    "y_arr_test=np.concatenate(list_y_test)"
   ]
  },
  {
   "cell_type": "code",
   "execution_count": 28,
   "metadata": {
    "execution": {
     "iopub.execute_input": "2021-01-08T17:21:40.734203Z",
     "iopub.status.busy": "2021-01-08T17:21:40.733261Z",
     "iopub.status.idle": "2021-01-08T17:21:40.736426Z",
     "shell.execute_reply": "2021-01-08T17:21:40.736955Z"
    },
    "papermill": {
     "duration": 6.528131,
     "end_time": "2021-01-08T17:21:40.737105",
     "exception": false,
     "start_time": "2021-01-08T17:21:34.208974",
     "status": "completed"
    },
    "tags": []
   },
   "outputs": [
    {
     "data": {
      "text/plain": [
       "(100, 21, 17)"
      ]
     },
     "execution_count": 28,
     "metadata": {},
     "output_type": "execute_result"
    }
   ],
   "source": [
    "X_arr_test.shape"
   ]
  },
  {
   "cell_type": "code",
   "execution_count": 29,
   "metadata": {
    "execution": {
     "iopub.execute_input": "2021-01-08T17:21:53.287607Z",
     "iopub.status.busy": "2021-01-08T17:21:53.286425Z",
     "iopub.status.idle": "2021-01-08T17:21:53.290138Z",
     "shell.execute_reply": "2021-01-08T17:21:53.290713Z"
    },
    "papermill": {
     "duration": 6.245115,
     "end_time": "2021-01-08T17:21:53.290846",
     "exception": false,
     "start_time": "2021-01-08T17:21:47.045731",
     "status": "completed"
    },
    "tags": []
   },
   "outputs": [
    {
     "data": {
      "text/plain": [
       "(100,)"
      ]
     },
     "execution_count": 29,
     "metadata": {},
     "output_type": "execute_result"
    }
   ],
   "source": [
    "y_arr_test.shape"
   ]
  },
  {
   "cell_type": "markdown",
   "metadata": {
    "papermill": {
     "duration": 6.300737,
     "end_time": "2021-01-08T17:22:05.804581",
     "exception": false,
     "start_time": "2021-01-08T17:21:59.503844",
     "status": "completed"
    },
    "tags": []
   },
   "source": [
    "We have to make inverse scaling for RUL column in order to produce proper prediction results"
   ]
  },
  {
   "cell_type": "code",
   "execution_count": 30,
   "metadata": {
    "execution": {
     "iopub.execute_input": "2021-01-08T17:22:17.916282Z",
     "iopub.status.busy": "2021-01-08T17:22:17.914482Z",
     "iopub.status.idle": "2021-01-08T17:22:17.917002Z",
     "shell.execute_reply": "2021-01-08T17:22:17.917490Z"
    },
    "papermill": {
     "duration": 6.24829,
     "end_time": "2021-01-08T17:22:17.917624",
     "exception": false,
     "start_time": "2021-01-08T17:22:11.669334",
     "status": "completed"
    },
    "tags": []
   },
   "outputs": [],
   "source": [
    "#create a dummy df to take inverse only on one col --> \"y_pred\"\n",
    "def invTransform(scaler, y_pred, colNames):\n",
    "    dummy = pd.DataFrame(np.zeros((len(y_pred), len(colNames))), columns=colNames)\n",
    "    dummy[\"RUL\"] = y_pred\n",
    "    dummy = pd.DataFrame(scaler.inverse_transform(dummy), columns=colNames)\n",
    "    return dummy[\"RUL\"].values"
   ]
  },
  {
   "cell_type": "code",
   "execution_count": 31,
   "metadata": {
    "execution": {
     "iopub.execute_input": "2021-01-08T17:22:30.192623Z",
     "iopub.status.busy": "2021-01-08T17:22:30.191637Z",
     "iopub.status.idle": "2021-01-08T17:22:31.173646Z",
     "shell.execute_reply": "2021-01-08T17:22:31.172611Z"
    },
    "papermill": {
     "duration": 7.255464,
     "end_time": "2021-01-08T17:22:31.173784",
     "exception": false,
     "start_time": "2021-01-08T17:22:23.918320",
     "status": "completed"
    },
    "tags": []
   },
   "outputs": [
    {
     "data": {
      "text/plain": [
       "(100,)"
      ]
     },
     "execution_count": 31,
     "metadata": {},
     "output_type": "execute_result"
    }
   ],
   "source": [
    "#prediction\n",
    "y_pred = model.predict(X_arr_test, verbose=0)\n",
    "\n",
    "#inverse scaling for y_pred values\n",
    "y_pred_inv=invTransform(scaler_1, y_pred, cols_normalize_1)\n",
    "\n",
    "y_pred_reshaped=y_pred_inv.reshape((len(y_pred_inv, )))\n",
    "y_pred_reshaped.shape"
   ]
  },
  {
   "cell_type": "code",
   "execution_count": 32,
   "metadata": {
    "execution": {
     "iopub.execute_input": "2021-01-08T17:22:44.761329Z",
     "iopub.status.busy": "2021-01-08T17:22:44.760421Z",
     "iopub.status.idle": "2021-01-08T17:22:44.763488Z",
     "shell.execute_reply": "2021-01-08T17:22:44.763926Z"
    },
    "papermill": {
     "duration": 6.069346,
     "end_time": "2021-01-08T17:22:44.764058",
     "exception": false,
     "start_time": "2021-01-08T17:22:38.694712",
     "status": "completed"
    },
    "tags": []
   },
   "outputs": [
    {
     "data": {
      "text/plain": [
       "(100,)"
      ]
     },
     "execution_count": 32,
     "metadata": {},
     "output_type": "execute_result"
    }
   ],
   "source": [
    "y_truth=rul_1_gt[\"RUL_1gt\"].values\n",
    "y_truth.shape"
   ]
  },
  {
   "cell_type": "markdown",
   "metadata": {
    "papermill": {
     "duration": 5.914515,
     "end_time": "2021-01-08T17:22:56.931301",
     "exception": false,
     "start_time": "2021-01-08T17:22:51.016786",
     "status": "completed"
    },
    "tags": []
   },
   "source": [
    "# SCORES"
   ]
  },
  {
   "cell_type": "code",
   "execution_count": 33,
   "metadata": {
    "execution": {
     "iopub.execute_input": "2021-01-08T17:23:09.876220Z",
     "iopub.status.busy": "2021-01-08T17:23:09.875233Z",
     "iopub.status.idle": "2021-01-08T17:23:09.880448Z",
     "shell.execute_reply": "2021-01-08T17:23:09.880902Z"
    },
    "papermill": {
     "duration": 6.760049,
     "end_time": "2021-01-08T17:23:09.881031",
     "exception": false,
     "start_time": "2021-01-08T17:23:03.120982",
     "status": "completed"
    },
    "tags": []
   },
   "outputs": [
    {
     "data": {
      "text/plain": [
       "array([112,  98,  69,  82,  91,  93,  91,  95, 111,  96,  97, 124,  95,\n",
       "       107,  83,  84,  50,  28,  87,  16,  57, 111, 113,  20, 145, 119,\n",
       "        66,  97,  90, 115,   8,  48, 106,   7,  11,  19,  21,  50, 142,\n",
       "        28,  18,  10,  59, 109, 114,  47, 135,  92,  21,  79, 114,  29,\n",
       "        26,  97, 137,  15, 103,  37, 114, 100,  21,  54,  72,  28, 128,\n",
       "        14,  77,   8, 121,  94, 118,  50, 131, 126, 113,  10,  34, 107,\n",
       "        63,  90,   8,   9, 137,  58, 118,  89, 116, 115, 136,  28,  38,\n",
       "        20,  85,  55, 128, 137,  82,  59, 117,  20])"
      ]
     },
     "execution_count": 33,
     "metadata": {},
     "output_type": "execute_result"
    }
   ],
   "source": [
    "y_truth"
   ]
  },
  {
   "cell_type": "code",
   "execution_count": 34,
   "metadata": {
    "execution": {
     "iopub.execute_input": "2021-01-08T17:23:22.008343Z",
     "iopub.status.busy": "2021-01-08T17:23:22.007378Z",
     "iopub.status.idle": "2021-01-08T17:23:22.011253Z",
     "shell.execute_reply": "2021-01-08T17:23:22.011806Z"
    },
    "papermill": {
     "duration": 6.187309,
     "end_time": "2021-01-08T17:23:22.011973",
     "exception": false,
     "start_time": "2021-01-08T17:23:15.824664",
     "status": "completed"
    },
    "tags": []
   },
   "outputs": [
    {
     "data": {
      "text/plain": [
       "array([163.49804845, 150.6297164 ,  43.74402118,  66.79577026,\n",
       "       154.74367985, 168.5031822 , 146.46199203, 156.3521716 ,\n",
       "       144.24781045,  83.85893308,  80.93237902, 109.59312809,\n",
       "       125.75106445, 145.60742262, 159.82878256, 131.50587088,\n",
       "        42.29623121,  33.27971224, 132.77339986,  14.56121457,\n",
       "        67.81602269, 144.41929239, 136.8713975 ,  23.15862001,\n",
       "       123.61828274, 136.27118382, 134.52928495, 129.62922007,\n",
       "        94.09970978,  99.89925063,  12.86784792,  55.67670673,\n",
       "       123.95558757,   7.91279563,  12.52594915,  23.90578593,\n",
       "        39.95096639,  47.84679027, 127.26004955,  32.14457369,\n",
       "        57.80727217,  13.09245063, 110.02765873, 209.79415852,\n",
       "        54.39388973,  38.81556962, 116.32961723, 169.92907834,\n",
       "        16.48404145, 126.73669559, 127.98196495,  31.14876488,\n",
       "        29.87130567, 132.18279365, 130.86696914,  14.98835941,\n",
       "       126.62889403,  47.41069424, 116.93060553, 124.79491198,\n",
       "        26.43226388,  49.87899485,  98.79869571,  21.34399813,\n",
       "       197.39590365,  19.42110132, 126.53697222,  13.54209179,\n",
       "       116.36515301, 149.9781087 , 146.3351692 ,  55.33820231,\n",
       "       105.14879912, 131.78100154, 120.18539488,  12.0635106 ,\n",
       "        40.73304409, 162.00071496, 136.09689388, 138.28168285,\n",
       "         9.37877846,  10.39583558, 151.28357264,  73.1166532 ,\n",
       "       137.83175659,  95.10156494, 146.47625798, 107.79583299,\n",
       "       171.94724828,  38.40000646,  23.42848432,  23.04123251,\n",
       "        38.90825529,  74.21453997, 121.2230548 , 120.28682733,\n",
       "        84.54232717, 109.99097177, 155.59606525,  19.93116298])"
      ]
     },
     "execution_count": 34,
     "metadata": {},
     "output_type": "execute_result"
    }
   ],
   "source": [
    "y_pred_reshaped"
   ]
  },
  {
   "cell_type": "code",
   "execution_count": 35,
   "metadata": {
    "execution": {
     "iopub.execute_input": "2021-01-08T17:23:34.437370Z",
     "iopub.status.busy": "2021-01-08T17:23:34.436448Z",
     "iopub.status.idle": "2021-01-08T17:23:34.439577Z",
     "shell.execute_reply": "2021-01-08T17:23:34.439042Z"
    },
    "papermill": {
     "duration": 6.471429,
     "end_time": "2021-01-08T17:23:34.439689",
     "exception": false,
     "start_time": "2021-01-08T17:23:27.968260",
     "status": "completed"
    },
    "tags": []
   },
   "outputs": [],
   "source": [
    "#error cal. for paper\n",
    "def score(y_true, y_pred, a1=10, a2=13):\n",
    "    score = 0\n",
    "    d = y_pred - y_true\n",
    "    for i in d:\n",
    "        if i >= 0 :\n",
    "            score += math.exp(i/a2) - 1   \n",
    "        else:\n",
    "            score += math.exp(- i/a1) - 1\n",
    "    return score"
   ]
  },
  {
   "cell_type": "code",
   "execution_count": 36,
   "metadata": {
    "execution": {
     "iopub.execute_input": "2021-01-08T17:23:47.252691Z",
     "iopub.status.busy": "2021-01-08T17:23:47.251893Z",
     "iopub.status.idle": "2021-01-08T17:23:47.255043Z",
     "shell.execute_reply": "2021-01-08T17:23:47.255550Z"
    },
    "papermill": {
     "duration": 6.157747,
     "end_time": "2021-01-08T17:23:47.255700",
     "exception": false,
     "start_time": "2021-01-08T17:23:41.097953",
     "status": "completed"
    },
    "tags": []
   },
   "outputs": [
    {
     "data": {
      "text/plain": [
       "5727.118141201296"
      ]
     },
     "execution_count": 36,
     "metadata": {},
     "output_type": "execute_result"
    }
   ],
   "source": [
    "score(y_truth,y_pred_reshaped)"
   ]
  },
  {
   "cell_type": "code",
   "execution_count": 37,
   "metadata": {
    "execution": {
     "iopub.execute_input": "2021-01-08T17:23:59.633217Z",
     "iopub.status.busy": "2021-01-08T17:23:59.632333Z",
     "iopub.status.idle": "2021-01-08T17:23:59.635295Z",
     "shell.execute_reply": "2021-01-08T17:23:59.634794Z"
    },
    "papermill": {
     "duration": 6.198397,
     "end_time": "2021-01-08T17:23:59.635422",
     "exception": false,
     "start_time": "2021-01-08T17:23:53.437025",
     "status": "completed"
    },
    "tags": []
   },
   "outputs": [],
   "source": [
    "def score_func(y_true, y_pred):\n",
    "    score_list = [\n",
    "                  round(score(y_true,y_pred), 2), \n",
    "                  round(mean_absolute_error(y_true,y_pred), 2),\n",
    "                  round(mean_squared_error(y_true,y_pred),2) ** 0.5,\n",
    "                  round(r2_score(y_true,y_pred), 2)\n",
    "                  ]\n",
    "    \n",
    "    print(f' R2 score: {score_list[3]}')\n",
    "    print(f' compatitive score: {score_list[0]}')\n",
    "    print(f' mean absolute error: {score_list[1]}')\n",
    "    print(f' root mean squared error: {score_list[2]}')\n",
    "    \n",
    "    return 0"
   ]
  },
  {
   "cell_type": "code",
   "execution_count": 38,
   "metadata": {
    "execution": {
     "iopub.execute_input": "2021-01-08T17:24:12.131286Z",
     "iopub.status.busy": "2021-01-08T17:24:12.130007Z",
     "iopub.status.idle": "2021-01-08T17:24:12.137511Z",
     "shell.execute_reply": "2021-01-08T17:24:12.135312Z"
    },
    "papermill": {
     "duration": 6.30275,
     "end_time": "2021-01-08T17:24:12.137668",
     "exception": false,
     "start_time": "2021-01-08T17:24:05.834918",
     "status": "completed"
    },
    "tags": []
   },
   "outputs": [
    {
     "name": "stdout",
     "output_type": "stream",
     "text": [
      " R2 score: 0.36\n",
      " compatitive score: 5727.12\n",
      " mean absolute error: 24.05\n",
      " root mean squared error: 33.24003610106343\n"
     ]
    },
    {
     "data": {
      "text/plain": [
       "0"
      ]
     },
     "execution_count": 38,
     "metadata": {},
     "output_type": "execute_result"
    }
   ],
   "source": [
    "score_func(y_truth,y_pred_reshaped)"
   ]
  }
 ],
 "metadata": {
  "kernelspec": {
   "display_name": "Python 3",
   "language": "python",
   "name": "python3"
  },
  "language_info": {
   "codemirror_mode": {
    "name": "ipython",
    "version": 3
   },
   "file_extension": ".py",
   "mimetype": "text/x-python",
   "name": "python",
   "nbconvert_exporter": "python",
   "pygments_lexer": "ipython3",
   "version": "3.7.6"
  },
  "papermill": {
   "duration": 4468.635279,
   "end_time": "2021-01-08T17:24:19.446436",
   "environment_variables": {},
   "exception": null,
   "input_path": "__notebook__.ipynb",
   "output_path": "__notebook__.ipynb",
   "parameters": {},
   "start_time": "2021-01-08T16:09:50.811157",
   "version": "2.1.0"
  }
 },
 "nbformat": 4,
 "nbformat_minor": 4
}
